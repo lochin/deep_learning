{
 "cells": [
  {
   "cell_type": "code",
   "execution_count": 43,
   "metadata": {},
   "outputs": [],
   "source": [
    "from sklearn.datasets import load_files\n",
    "\n",
    "news = load_files('.\\\\baza_mini', encoding='utf-8')\n",
    "\n",
    "posts = news.data"
   ]
  },
  {
   "cell_type": "code",
   "execution_count": 44,
   "metadata": {},
   "outputs": [],
   "source": [
    "import re, string \n",
    "from nltk import tokenize\n",
    "\n",
    "all_sentences = []\n",
    "\n",
    "for post in news.data:\n",
    "    \n",
    "    post = post.replace('\\r\\n\\r\\n', '. ', 1)\n",
    "    post = post.lower()\n",
    "    post = \"\".join([char for char in post if char not in '!\"#$%&\\'()*+,-/:;<=>?@[\\\\]^_`{|}~–“”'])\n",
    "    post = re.sub('[0-9]+', '', post)\n",
    "    post = re.sub('(\\r\\n|\\r|\\n)', ' ', post)\n",
    "    sentences = tokenize.sent_tokenize(post)\n",
    "    for sentence in sentences:\n",
    "        sentence = sentence.replace('.', '')\n",
    "        all_sentences.append(tokenize.word_tokenize(sentence))\n"
   ]
  },
  {
   "cell_type": "code",
   "execution_count": 45,
   "metadata": {},
   "outputs": [
    {
     "name": "stdout",
     "output_type": "stream",
     "text": [
      "15649\n",
      "['ўзбекистон', 'ҳиндистон', 'ҳамкорлик', 'уфқи', 'кенгаймоқда']\n",
      "Total Number of words :  238560\n"
     ]
    }
   ],
   "source": [
    "print(len(all_sentences))\n",
    "print(all_sentences[0])\n",
    "\n",
    "count = 0\n",
    "for sentence in all_sentences:\n",
    "    count += len(sentence)                    \n",
    "print('Total Number of words : ', count)"
   ]
  },
  {
   "cell_type": "code",
   "execution_count": 46,
   "metadata": {},
   "outputs": [],
   "source": [
    "from gensim.models import Word2Vec\n",
    "\n",
    "model = Word2Vec(all_sentences,\n",
    "                 min_count=5,   # Ignore words that appear less than this\n",
    "                 size=200,      # Dimensionality of word embeddings\n",
    "                 workers=2,     # Number of processors (parallelisation)\n",
    "                 window=5,      # Context window for words during training\n",
    "                 iter=30)       # Number of epochs training over corpus\n",
    "model.save(\"mini_word2vec.model\")"
   ]
  },
  {
   "cell_type": "code",
   "execution_count": 47,
   "metadata": {},
   "outputs": [
    {
     "data": {
      "text/plain": [
       "7173"
      ]
     },
     "execution_count": 47,
     "metadata": {},
     "output_type": "execute_result"
    }
   ],
   "source": [
    "len(model.wv.vocab)"
   ]
  },
  {
   "cell_type": "code",
   "execution_count": 48,
   "metadata": {},
   "outputs": [
    {
     "data": {
      "text/plain": [
       "['ўзбекистон', 'ҳиндистон', 'ҳамкорлик', 'уфқи', 'кенгаймоқда']"
      ]
     },
     "execution_count": 48,
     "metadata": {},
     "output_type": "execute_result"
    }
   ],
   "source": [
    "all_sentences[0]"
   ]
  },
  {
   "cell_type": "code",
   "execution_count": null,
   "metadata": {},
   "outputs": [],
   "source": []
  },
  {
   "cell_type": "code",
   "execution_count": null,
   "metadata": {},
   "outputs": [],
   "source": []
  },
  {
   "cell_type": "code",
   "execution_count": null,
   "metadata": {},
   "outputs": [],
   "source": []
  }
 ],
 "metadata": {
  "kernelspec": {
   "display_name": "Python 3",
   "language": "python",
   "name": "python3"
  },
  "language_info": {
   "codemirror_mode": {
    "name": "ipython",
    "version": 3
   },
   "file_extension": ".py",
   "mimetype": "text/x-python",
   "name": "python",
   "nbconvert_exporter": "python",
   "pygments_lexer": "ipython3",
   "version": "3.7.9"
  }
 },
 "nbformat": 4,
 "nbformat_minor": 4
}
