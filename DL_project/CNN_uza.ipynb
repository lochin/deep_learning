{
 "cells": [
  {
   "cell_type": "code",
   "execution_count": 2,
   "metadata": {},
   "outputs": [
    {
     "name": "stdout",
     "output_type": "stream",
     "text": [
      "1385\n",
      "462\n"
     ]
    }
   ],
   "source": [
    "from sklearn.datasets import load_files\n",
    "\n",
    "uza_train = load_files('.\\\\uza\\\\train', encoding='utf-8')\n",
    "uza_test = load_files('.\\\\uza\\\\test', encoding='utf-8')\n",
    "\n",
    "print(len(uza_train.data))\n",
    "print(len(uza_test.data))"
   ]
  },
  {
   "cell_type": "code",
   "execution_count": 3,
   "metadata": {},
   "outputs": [
    {
     "data": {
      "text/plain": [
       "{'<OOV>': 1,\n",
       " '\\r': 2,\n",
       " 'ва': 3,\n",
       " 'ўзбекистон': 4,\n",
       " 'билан': 5,\n",
       " 'республикаси': 6,\n",
       " 'бўйича': 7,\n",
       " 'учун': 8,\n",
       " '–': 9,\n",
       " 'давлат': 10}"
      ]
     },
     "execution_count": 3,
     "metadata": {},
     "output_type": "execute_result"
    }
   ],
   "source": [
    "from tensorflow.keras.preprocessing.text import Tokenizer\n",
    "\n",
    "vocab_size = 10000\n",
    "embedding_dim = 64\n",
    "max_length = 200\n",
    "trunc_type = 'post'\n",
    "padding_type = 'post'\n",
    "oov_tok = '<OOV>'\n",
    "\n",
    "tokenizer = Tokenizer(num_words = vocab_size, oov_token=oov_tok)\n",
    "tokenizer.fit_on_texts(uza_train.data)\n",
    "word_index = tokenizer.word_index\n",
    "\n",
    "dict(list(word_index.items())[0:10])"
   ]
  },
  {
   "cell_type": "code",
   "execution_count": 4,
   "metadata": {},
   "outputs": [],
   "source": [
    "train_sequences = tokenizer.texts_to_sequences(uza_train.data)\n",
    "test_sequences = tokenizer.texts_to_sequences(uza_test.data)"
   ]
  },
  {
   "cell_type": "code",
   "execution_count": 5,
   "metadata": {},
   "outputs": [],
   "source": [
    "from tensorflow.keras.preprocessing.sequence import pad_sequences\n",
    "\n",
    "train_padded = pad_sequences(train_sequences, maxlen=max_length, padding=padding_type, truncating=trunc_type)\n",
    "\n",
    "test_padded = pad_sequences(test_sequences, maxlen=max_length, padding=padding_type, truncating=trunc_type)\n"
   ]
  },
  {
   "cell_type": "code",
   "execution_count": 6,
   "metadata": {},
   "outputs": [
    {
     "name": "stdout",
     "output_type": "stream",
     "text": [
      "Model: \"sequential\"\n",
      "_________________________________________________________________\n",
      "Layer (type)                 Output Shape              Param #   \n",
      "=================================================================\n",
      "embedding (Embedding)        (None, 200, 64)           640000    \n",
      "_________________________________________________________________\n",
      "conv1d (Conv1D)              (None, 196, 128)          41088     \n",
      "_________________________________________________________________\n",
      "global_average_pooling1d (Gl (None, 128)               0         \n",
      "_________________________________________________________________\n",
      "dense (Dense)                (None, 64)                8256      \n",
      "_________________________________________________________________\n",
      "dense_1 (Dense)              (None, 10)                650       \n",
      "=================================================================\n",
      "Total params: 689,994\n",
      "Trainable params: 689,994\n",
      "Non-trainable params: 0\n",
      "_________________________________________________________________\n"
     ]
    }
   ],
   "source": [
    "import tensorflow as tf\n",
    "\n",
    "model = tf.keras.Sequential([\n",
    "    tf.keras.layers.Embedding(vocab_size, embedding_dim,\n",
    "                             input_length=max_length),\n",
    "    # specify the number of convolutions that you want to learn, their size, and their activation function.\n",
    "    # words will be grouped into the size of the filter in this case 5\n",
    "    tf.keras.layers.Conv1D(128, 5, activation='relu'),\n",
    "    tf.keras.layers.GlobalAveragePooling1D(),\n",
    "    tf.keras.layers.Dense(64, activation='relu'),\n",
    "    tf.keras.layers.Dense(10, activation='softmax')\n",
    "])\n",
    "model.summary()\n",
    "\n"
   ]
  },
  {
   "cell_type": "code",
   "execution_count": 7,
   "metadata": {},
   "outputs": [],
   "source": [
    "model.compile(loss='sparse_categorical_crossentropy', optimizer='adam', metrics=['accuracy'])"
   ]
  },
  {
   "cell_type": "code",
   "execution_count": 8,
   "metadata": {},
   "outputs": [
    {
     "name": "stdout",
     "output_type": "stream",
     "text": [
      "Train on 1385 samples, validate on 462 samples\n",
      "Epoch 1/10\n",
      "1385/1385 - 4s - loss: 2.2179 - accuracy: 0.2245 - val_loss: 2.0498 - val_accuracy: 0.2835\n",
      "Epoch 2/10\n",
      "1385/1385 - 3s - loss: 1.8056 - accuracy: 0.3610 - val_loss: 1.6343 - val_accuracy: 0.3896\n",
      "Epoch 3/10\n",
      "1385/1385 - 3s - loss: 1.3641 - accuracy: 0.5278 - val_loss: 1.3415 - val_accuracy: 0.5303\n",
      "Epoch 4/10\n",
      "1385/1385 - 3s - loss: 0.9843 - accuracy: 0.7018 - val_loss: 1.1666 - val_accuracy: 0.5736\n",
      "Epoch 5/10\n",
      "1385/1385 - 3s - loss: 0.6479 - accuracy: 0.8137 - val_loss: 1.0679 - val_accuracy: 0.6320\n",
      "Epoch 6/10\n",
      "1385/1385 - 3s - loss: 0.4181 - accuracy: 0.8874 - val_loss: 1.1014 - val_accuracy: 0.6667\n",
      "Epoch 7/10\n",
      "1385/1385 - 3s - loss: 0.2550 - accuracy: 0.9538 - val_loss: 1.1163 - val_accuracy: 0.6840\n",
      "Epoch 8/10\n",
      "1385/1385 - 3s - loss: 0.1563 - accuracy: 0.9798 - val_loss: 1.1537 - val_accuracy: 0.6840\n",
      "Epoch 9/10\n",
      "1385/1385 - 3s - loss: 0.0963 - accuracy: 0.9863 - val_loss: 1.2550 - val_accuracy: 0.6775\n",
      "Epoch 10/10\n",
      "1385/1385 - 3s - loss: 0.0608 - accuracy: 0.9942 - val_loss: 1.2709 - val_accuracy: 0.6926\n"
     ]
    }
   ],
   "source": [
    "num_epochs = 10\n",
    "history = model.fit(train_padded, uza_train.target, epochs=num_epochs, validation_data=(test_padded, uza_test.target), verbose=2)"
   ]
  },
  {
   "cell_type": "code",
   "execution_count": 11,
   "metadata": {},
   "outputs": [
    {
     "data": {
      "image/png": "[encoded data removed]",
      "text/plain": [
       "<Figure size 432x288 with 1 Axes>"
      ]
     },
     "metadata": {
      "needs_background": "light"
     },
     "output_type": "display_data"
    }
   ],
   "source": [
    "import matplotlib.pyplot as plt\n",
    "\n",
    "def plot_graphs(history, string):\n",
    "    plt.plot(history.history[string])\n",
    "    plt.plot(history.history['val_' + string])\n",
    "    plt.xlabel(\"Босқичлар\")\n",
    "    plt.ylabel(\"Аниқлик\")\n",
    "    plt.legend(['Ўқитиш', 'Тестлаш'])\n",
    "    plt.show()\n",
    "\n",
    "\n",
    "plot_graphs(history, \"accuracy\")"
   ]
  },
  {
   "cell_type": "code",
   "execution_count": null,
   "metadata": {},
   "outputs": [],
   "source": []
  }
 ],
 "metadata": {
  "kernelspec": {
   "display_name": "Python 3",
   "language": "python",
   "name": "python3"
  },
  "language_info": {
   "codemirror_mode": {
    "name": "ipython",
    "version": 3
   },
   "file_extension": ".py",
   "mimetype": "text/x-python",
   "name": "python",
   "nbconvert_exporter": "python",
   "pygments_lexer": "ipython3",
   "version": "3.7.9"
  }
 },
 "nbformat": 4,
 "nbformat_minor": 4
}
