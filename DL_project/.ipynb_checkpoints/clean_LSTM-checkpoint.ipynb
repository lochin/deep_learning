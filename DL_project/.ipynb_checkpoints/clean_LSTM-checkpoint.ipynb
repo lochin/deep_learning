{
 "cells": [
  {
   "cell_type": "code",
   "execution_count": 30,
   "metadata": {},
   "outputs": [
    {
     "name": "stdout",
     "output_type": "stream",
     "text": [
      "2.1.0\n"
     ]
    }
   ],
   "source": [
    "import tensorflow as tf\n",
    "print(tf.__version__)"
   ]
  },
  {
   "cell_type": "code",
   "execution_count": 31,
   "metadata": {},
   "outputs": [],
   "source": [
    "import csv\n",
    "import tensorflow as tf\n",
    "import numpy as np\n",
    "from tensorflow.keras.preprocessing.text import Tokenizer\n",
    "from tensorflow.keras.preprocessing.sequence import pad_sequences\n",
    "\n"
   ]
  },
  {
   "cell_type": "code",
   "execution_count": 32,
   "metadata": {},
   "outputs": [],
   "source": [
    "vocab_size = 55000\n",
    "embedding_dim = 64\n",
    "max_length = 200\n",
    "trunc_type = 'post'\n",
    "padding_type = 'post'\n",
    "oov_tok = '<OOV>'\n",
    "training_portion = .8"
   ]
  },
  {
   "cell_type": "code",
   "execution_count": 33,
   "metadata": {},
   "outputs": [
    {
     "name": "stdout",
     "output_type": "stream",
     "text": [
      "1847\n",
      "1847\n"
     ]
    }
   ],
   "source": [
    "articles = []\n",
    "labels = []\n",
    "\n",
    "with open(\"clean_uza.csv\", 'r', encoding=\"utf8\") as csvfile:\n",
    "    reader = csv.reader(csvfile, delimiter=',')\n",
    "    next(reader)\n",
    "    for row in reader:\n",
    "        labels.append(row[1])\n",
    "        article = row[2]        \n",
    "        articles.append(article)\n",
    "print(len(labels))\n",
    "print(len(articles))"
   ]
  },
  {
   "cell_type": "code",
   "execution_count": 34,
   "metadata": {},
   "outputs": [
    {
     "name": "stdout",
     "output_type": "stream",
     "text": [
      "1477\n",
      "1477\n",
      "1477\n",
      "370\n",
      "370\n"
     ]
    }
   ],
   "source": [
    "train_size = int(len(articles) * training_portion)\n",
    "\n",
    "train_articles = articles[0: train_size]\n",
    "train_labels = labels[0: train_size]\n",
    "\n",
    "validation_articles = articles[train_size:]\n",
    "validation_labels = labels[train_size:]\n",
    "\n",
    "print(train_size)\n",
    "print(len(train_articles))\n",
    "print(len(train_labels))\n",
    "print(len(validation_articles))\n",
    "print(len(validation_labels))"
   ]
  },
  {
   "cell_type": "code",
   "execution_count": 35,
   "metadata": {},
   "outputs": [],
   "source": [
    "tokenizer = Tokenizer(num_words = vocab_size, oov_token=oov_tok)\n",
    "tokenizer.fit_on_texts(train_articles)\n",
    "word_index = tokenizer.word_index"
   ]
  },
  {
   "cell_type": "code",
   "execution_count": 36,
   "metadata": {},
   "outputs": [
    {
     "name": "stdout",
     "output_type": "stream",
     "text": [
      "55736\n"
     ]
    }
   ],
   "source": [
    "dict(list(word_index.items())[0:10])\n",
    "print(len(list(word_index.items())))"
   ]
  },
  {
   "cell_type": "code",
   "execution_count": 37,
   "metadata": {},
   "outputs": [],
   "source": [
    "train_sequences = tokenizer.texts_to_sequences(train_articles)"
   ]
  },
  {
   "cell_type": "code",
   "execution_count": 38,
   "metadata": {},
   "outputs": [
    {
     "name": "stdout",
     "output_type": "stream",
     "text": [
      "[18730, 692, 18731, 4397, 1217, 48, 706, 1799, 26910, 1234, 692, 117, 6, 440, 1493, 12441, 1314, 18730, 692, 18731, 43, 420, 2, 9477, 19, 4397, 55, 147, 3701, 761, 2830, 208, 12, 123, 5779, 1260, 4397, 955, 18, 692, 713, 4397, 1375, 7744, 3, 3575, 41, 2751, 295, 42, 109, 648, 18, 692, 713, 1332, 211, 4849, 8510, 1375, 7744, 813, 3576, 1671, 692, 4850, 844, 190, 26, 8511, 692, 106, 42, 26911, 3094, 6, 14873, 468, 5409, 70, 1154, 7122, 9484, 15, 70, 12442, 42, 14874, 7745, 1902, 4398, 10746, 81, 539, 1314, 813, 3576, 1375, 4179, 692, 4851, 196, 26912, 11, 4179, 3, 3575, 1622, 41, 8512, 305, 81, 26, 362, 48, 1314, 1334, 358, 583, 6624, 753, 7123, 81, 4397, 1375, 7744, 3, 3575, 41, 2751, 295, 42, 109, 648, 18, 692, 1449, 93, 4397, 777, 1375, 8511, 26913, 26914, 2752, 4397, 1150, 4397, 26915, 4180, 4399, 76, 1375, 26916, 161, 36, 26917, 38, 12, 26918, 170, 581, 539, 1375, 26919, 26920, 58, 42, 808, 147, 26921, 161, 196, 26, 1375, 4179, 58, 42, 808, 220, 26922, 10, 84, 164, 1332, 539, 12443, 1276, 14875, 4, 3323, 1375, 26923, 196, 1276, 4397, 10746, 264, 164, 4397, 8513, 95, 2136, 1375, 6625, 26924, 2329, 70, 9485, 482, 9486, 2228, 12444, 2, 140, 3575, 1622, 152, 4, 41, 8512, 3215, 10747, 674, 64, 6, 2136, 1375, 4179, 6626, 572, 42, 14876, 2532, 49, 4400, 515, 1220, 13, 27, 6, 2136, 1375, 26925, 3711, 53, 621, 714, 4181, 142, 2, 1220, 8514, 17, 6, 2136, 221, 2, 531, 1221, 2753, 26926, 1390, 6, 8511, 26927, 7746, 3094, 81, 4397, 8511, 26928, 18732, 14877, 70, 4398, 64, 81, 211, 223, 26, 14878, 7744, 26929, 5410, 26930, 2, 439, 6625, 18733, 1049, 964, 164, 1672, 692, 117, 95, 4179, 70, 66, 1619, 5753, 621, 12445, 492, 527, 66, 743, 14875, 18734, 340, 277, 550, 14879, 692, 1449, 95, 1137, 6183, 1375, 6625, 14879, 12446, 4182, 692, 388, 6184, 14880, 81, 1332, 1375, 3215, 1261, 12447, 753, 15, 70, 2136, 6185, 10748, 1234, 85, 2136, 8515, 1217, 48, 706, 1799, 813, 363, 474, 22, 3839, 18735, 37, 1375, 3215, 4401, 777, 164, 8516, 4390, 1800, 109, 433, 569, 692, 18736, 14881, 295, 433, 62, 1261, 12447, 753, 48, 2177, 1240, 154, 18737, 492, 261, 4390, 692, 26931, 81, 4397, 965, 1217, 2229, 692, 713, 1093, 14879, 6, 26932, 533, 2330, 2136, 1071, 583, 6, 533, 268, 2136, 20, 2088, 6, 533, 268, 109, 648, 26933, 6, 66, 1619, 26934, 197, 2136, 277, 550, 533, 268, 2136, 277, 7747, 340, 533, 268, 109, 648, 26935, 6, 2136, 467, 884, 26936, 26937, 10749, 1234, 2136, 83, 18738, 277, 550, 10749, 1234, 2136, 83, 18738, 7747, 340, 10749, 533, 268, 1261, 12447, 250, 753, 605, 585, 54, 594, 123, 18739, 4402, 70, 26938, 4402, 70, 7122, 14874, 2597, 70, 1316, 12442, 5780, 2597, 70, 4852, 921, 7124, 42, 1261, 12447, 26939, 234, 7125, 2271, 397, 70, 26940, 26941, 18740, 57, 692, 117, 14882, 271, 4397, 2178, 14873, 1221, 692, 713, 14875, 26942, 18740, 57, 692, 117, 370, 8517, 4397, 955, 18, 692, 713, 4397, 1375, 7744, 3, 3575, 41, 2751, 295, 2179, 109, 648, 18, 692, 713, 26943, 2038, 250, 26944, 164, 14873, 468, 5409, 70, 1154, 7122, 9484, 15, 70, 12442, 42, 14874, 7745, 26945]\n"
     ]
    }
   ],
   "source": [
    "print(train_sequences[10])"
   ]
  },
  {
   "cell_type": "code",
   "execution_count": 39,
   "metadata": {},
   "outputs": [],
   "source": [
    "train_padded = pad_sequences(train_sequences, maxlen=max_length, padding=padding_type, truncating=trunc_type)"
   ]
  },
  {
   "cell_type": "code",
   "execution_count": 40,
   "metadata": {},
   "outputs": [
    {
     "name": "stdout",
     "output_type": "stream",
     "text": [
      "133\n",
      "200\n",
      "252\n",
      "200\n"
     ]
    }
   ],
   "source": [
    "print(len(train_sequences[0]))\n",
    "print(len(train_padded[0]))\n",
    "\n",
    "print(len(train_sequences[1]))\n",
    "print(len(train_padded[1]))\n"
   ]
  },
  {
   "cell_type": "code",
   "execution_count": 41,
   "metadata": {},
   "outputs": [
    {
     "name": "stdout",
     "output_type": "stream",
     "text": [
      "[1754, 18637, 8471, 9443, 2262, 5750, 14795, 2, 3421, 3838, 244, 26706, 1403, 1021, 999, 2127, 26707, 18638, 5388, 26708, 26709, 26710, 26711, 501, 114, 2993, 26712, 237, 16, 92, 18639, 18640, 18641, 6161, 4375, 18642, 9444, 2221, 6597, 3, 5, 43, 420, 2, 1387, 29, 12382, 363, 3195, 103, 18639, 18640, 18641, 6161, 4375, 18642, 213, 9444, 203, 6162, 2033, 88, 266, 3422, 114, 107, 26713, 50, 1583, 267, 2523, 7083, 2, 233, 5092, 2994, 25, 14796, 185, 665, 750, 55, 37, 18643, 2, 26714, 7084, 487, 17, 3560, 4, 1727, 25, 2128, 160, 2737, 14797, 170, 275, 2169, 18644, 76, 89, 26715, 14798, 185, 142, 18645, 5389, 1198, 1754, 18637, 4376, 1441, 26716, 7085, 718, 46, 44, 39, 12383, 2324, 58, 350, 357, 38, 414, 562, 2659, 1149, 14799, 317, 156]\n"
     ]
    }
   ],
   "source": [
    "print(train_sequences[0])"
   ]
  },
  {
   "cell_type": "code",
   "execution_count": 42,
   "metadata": {},
   "outputs": [
    {
     "name": "stdout",
     "output_type": "stream",
     "text": [
      "[ 1754 18637  8471  9443  2262  5750 14795     2  3421  3838   244 26706\n",
      "  1403  1021   999  2127 26707 18638  5388 26708 26709 26710 26711   501\n",
      "   114  2993 26712   237    16    92 18639 18640 18641  6161  4375 18642\n",
      "  9444  2221  6597     3     5    43   420     2  1387    29 12382   363\n",
      "  3195   103 18639 18640 18641  6161  4375 18642   213  9444   203  6162\n",
      "  2033    88   266  3422   114   107 26713    50  1583   267  2523  7083\n",
      "     2   233  5092  2994    25 14796   185   665   750    55    37 18643\n",
      "     2 26714  7084   487    17  3560     4  1727    25  2128   160  2737\n",
      " 14797   170   275  2169 18644    76    89 26715 14798   185   142 18645\n",
      "  5389  1198  1754 18637  4376  1441 26716  7085   718    46    44    39\n",
      " 12383  2324    58   350   357    38   414   562  2659  1149 14799   317\n",
      "   156     0     0     0     0     0     0     0     0     0     0     0\n",
      "     0     0     0     0     0     0     0     0     0     0     0     0\n",
      "     0     0     0     0     0     0     0     0     0     0     0     0\n",
      "     0     0     0     0     0     0     0     0     0     0     0     0\n",
      "     0     0     0     0     0     0     0     0     0     0     0     0\n",
      "     0     0     0     0     0     0     0     0]\n"
     ]
    }
   ],
   "source": [
    "print(train_padded[0])"
   ]
  },
  {
   "cell_type": "code",
   "execution_count": 43,
   "metadata": {},
   "outputs": [
    {
     "name": "stdout",
     "output_type": "stream",
     "text": [
      "[894, 7086, 3561, 347, 583, 2263, 3689, 123, 1955, 1559, 9445, 237, 1539, 23, 1995, 125, 7087, 7, 110, 337, 1113, 1996, 18646, 1370, 325, 484, 330, 26717, 1331, 3, 1293, 1955, 3313, 1467, 2, 2821, 1828, 589, 1790, 88, 88, 484, 22, 3839, 727, 8472, 216, 1068, 2034, 1829, 10696, 2524, 18647, 2, 10697, 7711, 10698, 9446, 903, 4586, 3196, 26718, 271, 3562, 7088, 443, 26719, 4168, 18648, 12384, 26720, 5093, 7089, 7090, 2821, 26721, 340, 26722, 1613, 62, 14800, 341, 26723, 14801, 26724, 3423, 26725, 8473, 10699, 26726, 12385, 4587, 5094, 2170, 196, 10700, 10701, 26727, 185, 2451, 12, 26728, 843, 1276, 12386, 6163, 507, 14802, 3563, 18649, 6164, 391, 2903, 4588, 2451, 347, 164, 9446, 216, 1069, 1560, 3840, 14803, 3197, 12387, 172, 14804, 1923, 1233, 2264, 18650, 7712, 10, 7713, 3840, 10702, 26729, 14805, 14806, 1293, 26730, 12388, 12385, 2170, 26731, 38, 12, 2451, 26732, 392, 9447, 1332, 3561, 347, 583, 2263, 3, 2, 1293, 12389, 26733, 3690, 12390, 205, 92, 2035, 434, 1293, 1955, 1467, 3313, 3, 2821, 7091, 8473, 10699, 12391, 10703, 10700, 10701, 434, 1955, 2821, 1293, 3313, 3, 1467, 7091, 10700, 10701, 8473, 10699, 12391, 10703, 434, 2821, 1293, 1955, 1467, 3313, 3, 7091, 26734, 18651, 8473, 10699, 9448, 26735, 395, 610, 1293, 2, 3, 10704, 26736, 6165, 53, 14805, 14806, 1467, 26737, 3196, 26738, 62, 3196, 1955, 2, 3313, 10704, 3424, 7092, 10, 3196, 18652, 5390, 271, 3197, 9449, 434, 1467, 2821, 3313, 1955, 3, 1293, 434, 2821, 3313, 1293, 1467, 1955, 3]\n"
     ]
    }
   ],
   "source": [
    "print(train_sequences[1])"
   ]
  },
  {
   "cell_type": "code",
   "execution_count": 44,
   "metadata": {},
   "outputs": [
    {
     "name": "stdout",
     "output_type": "stream",
     "text": [
      "[  894  7086  3561   347   583  2263  3689   123  1955  1559  9445   237\n",
      "  1539    23  1995   125  7087     7   110   337  1113  1996 18646  1370\n",
      "   325   484   330 26717  1331     3  1293  1955  3313  1467     2  2821\n",
      "  1828   589  1790    88    88   484    22  3839   727  8472   216  1068\n",
      "  2034  1829 10696  2524 18647     2 10697  7711 10698  9446   903  4586\n",
      "  3196 26718   271  3562  7088   443 26719  4168 18648 12384 26720  5093\n",
      "  7089  7090  2821 26721   340 26722  1613    62 14800   341 26723 14801\n",
      " 26724  3423 26725  8473 10699 26726 12385  4587  5094  2170   196 10700\n",
      " 10701 26727   185  2451    12 26728   843  1276 12386  6163   507 14802\n",
      "  3563 18649  6164   391  2903  4588  2451   347   164  9446   216  1069\n",
      "  1560  3840 14803  3197 12387   172 14804  1923  1233  2264 18650  7712\n",
      "    10  7713  3840 10702 26729 14805 14806  1293 26730 12388 12385  2170\n",
      " 26731    38    12  2451 26732   392  9447  1332  3561   347   583  2263\n",
      "     3     2  1293 12389 26733  3690 12390   205    92  2035   434  1293\n",
      "  1955  1467  3313     3  2821  7091  8473 10699 12391 10703 10700 10701\n",
      "   434  1955  2821  1293  3313     3  1467  7091 10700 10701  8473 10699\n",
      " 12391 10703   434  2821  1293  1955  1467  3313]\n"
     ]
    }
   ],
   "source": [
    "print(train_padded[1])"
   ]
  },
  {
   "cell_type": "code",
   "execution_count": 45,
   "metadata": {},
   "outputs": [
    {
     "name": "stdout",
     "output_type": "stream",
     "text": [
      "370\n",
      "(370, 200)\n"
     ]
    }
   ],
   "source": [
    "validation_sequences = tokenizer.texts_to_sequences(validation_articles)\n",
    "validation_padded = pad_sequences(validation_sequences, maxlen=max_length, padding=padding_type, truncating=trunc_type)\n",
    "\n",
    "print(len(validation_sequences))\n",
    "print(validation_padded.shape)"
   ]
  },
  {
   "cell_type": "code",
   "execution_count": 46,
   "metadata": {},
   "outputs": [
    {
     "name": "stdout",
     "output_type": "stream",
     "text": [
      "{'world', 'science', 'culture', 'society', 'business', 'politics', 'tourism', 'sport', 'technology', 'documents'}\n"
     ]
    }
   ],
   "source": [
    "print(set(labels))"
   ]
  },
  {
   "cell_type": "code",
   "execution_count": 47,
   "metadata": {},
   "outputs": [],
   "source": [
    "label_tokenizer = Tokenizer()\n",
    "label_tokenizer.fit_on_texts(labels)\n",
    "\n",
    "training_label_seq = np.array(label_tokenizer.texts_to_sequences(train_labels))\n",
    "validation_label_seq = np.array(label_tokenizer.texts_to_sequences(validation_labels))"
   ]
  },
  {
   "cell_type": "code",
   "execution_count": 48,
   "metadata": {},
   "outputs": [
    {
     "name": "stdout",
     "output_type": "stream",
     "text": [
      "[10]\n",
      "[1]\n",
      "[9]\n",
      "(1477, 1)\n",
      "[7]\n",
      "[9]\n",
      "[5]\n",
      "(370, 1)\n"
     ]
    }
   ],
   "source": [
    "print(training_label_seq[0])\n",
    "print(training_label_seq[1])\n",
    "print(training_label_seq[2])\n",
    "print(training_label_seq.shape)\n",
    "\n",
    "print(validation_label_seq[0])\n",
    "print(validation_label_seq[1])\n",
    "print(validation_label_seq[2])\n",
    "print(validation_label_seq.shape)"
   ]
  },
  {
   "cell_type": "code",
   "execution_count": 49,
   "metadata": {},
   "outputs": [
    {
     "name": "stdout",
     "output_type": "stream",
     "text": [
      "ўзбекистонлик дастурчилар ҳиндистонлик ҳамкасблари тажрибасини ўрганди фантехника ва маркетинг тадқиқотлари маркази uniconuz мутахассислари ҳиндистон технологик институтининг indian technical and economic cooperation programme itec дастури доирасида ҳиндистоннинг канпуре шаҳрида ташкил этилган intermediate cyber security for it professionals курсида ўқиб қайтди ўзбекистон республикаси ахборот технологиялари ва коммуникацияларини ривожлантириш вазирлигидан олинган маълумотга кўра intermediate cyber security for it professionals ўқув курсида турли мамлакатлардан мутахассис иштирок этган машғулотлар доирасида улар киберхавфсизликни таъминлаш соҳасига оид назарий билимлар ва амалий кўникмаларни эгаллади шунингдек киберхавфсизликка қарши курашиш борасидаги энг янги услублар ва киберҳужумларнинг оқибатларини бартараф этиш усуллари билан танишди шунингдек ўқиш давомида корпоратив маданиятга алоҳида эътибор қаратилди бусиз барча замонавий кибер таҳдидларга қарши самарали ҳимояни таъминлаб бўлмайди ўзбекистонлик дастурчилар ўқишни муваффақиятли тугаллаб сертификат олди уларнинг мазкур таълим дастуридаги иштироки икки мамлакат ўртасидаги ҳар томонлама ҳамкорликни ривожлантиришда навбатдаги қадамлардан бири бўлди ? ? ? ? ? ? ? ? ? ? ? ? ? ? ? ? ? ? ? ? ? ? ? ? ? ? ? ? ? ? ? ? ? ? ? ? ? ? ? ? ? ? ? ? ? ? ? ? ? ? ? ? ? ? ? ? ? ? ? ? ? ? ? ? ? ? ?\n",
      "---\n",
      "ўзбекистонлик дастурчилар ҳиндистонлик ҳамкасблари тажрибасини ўрганди  фантехника ва маркетинг тадқиқотлари маркази  uniconuz мутахассислари ҳиндистон технологик институтининг indian technical and economic cooperation programme itec дастури доирасида ҳиндистоннинг канпуре шаҳрида ташкил этилган intermediate cyber security for it professionals курсида ўқиб қайтди  ўзбекистон республикаси ахборот технологиялари ва коммуникацияларини ривожлантириш вазирлигидан олинган маълумотга кўра intermediate cyber security for it professionals ўқув курсида турли мамлакатлардан  мутахассис иштирок этган машғулотлар доирасида улар киберхавфсизликни таъминлаш соҳасига оид назарий билимлар ва амалий кўникмаларни эгаллади шунингдек киберхавфсизликка қарши курашиш борасидаги энг янги услублар ва киберҳужумларнинг оқибатларини бартараф этиш усуллари билан танишди  шунингдек ўқиш давомида корпоратив маданиятга алоҳида эътибор қаратилди бусиз барча замонавий кибер таҳдидларга қарши самарали ҳимояни таъминлаб бўлмайди  ўзбекистонлик дастурчилар ўқишни муваффақиятли тугаллаб сертификат олди уларнинг мазкур таълим дастуридаги иштироки икки мамлакат ўртасидаги ҳар томонлама ҳамкорликни ривожлантиришда навбатдаги қадамлардан бири бўлди\n"
     ]
    }
   ],
   "source": [
    "reverse_word_index = dict([(value, key) for (key, value) in word_index.items()])\n",
    "\n",
    "def decode_article(text):\n",
    "    return ' '.join([reverse_word_index.get(i, '?') for i in text])\n",
    "print(decode_article(train_padded[0]))\n",
    "print('---')\n",
    "print(train_articles[0])"
   ]
  },
  {
   "cell_type": "code",
   "execution_count": 50,
   "metadata": {},
   "outputs": [
    {
     "name": "stdout",
     "output_type": "stream",
     "text": [
      "Model: \"sequential_2\"\n",
      "_________________________________________________________________\n",
      "Layer (type)                 Output Shape              Param #   \n",
      "=================================================================\n",
      "embedding_2 (Embedding)      (None, None, 64)          3520000   \n",
      "_________________________________________________________________\n",
      "bidirectional_2 (Bidirection (None, 128)               66048     \n",
      "_________________________________________________________________\n",
      "dense_4 (Dense)              (None, 64)                8256      \n",
      "_________________________________________________________________\n",
      "dense_5 (Dense)              (None, 11)                715       \n",
      "=================================================================\n",
      "Total params: 3,595,019\n",
      "Trainable params: 3,595,019\n",
      "Non-trainable params: 0\n",
      "_________________________________________________________________\n"
     ]
    }
   ],
   "source": [
    "model = tf.keras.Sequential([\n",
    "    # Add an Embedding layer expecting input vocab of size 5000, and output embedding dimension of size 64 we set at the top\n",
    "    tf.keras.layers.Embedding(vocab_size, embedding_dim),\n",
    "    tf.keras.layers.Bidirectional(tf.keras.layers.LSTM(embedding_dim)),\n",
    "#    tf.keras.layers.Bidirectional(tf.keras.layers.LSTM(32)),\n",
    "    # use ReLU in place of tanh function since they are very good alternatives of each other.\n",
    "    tf.keras.layers.Dense(embedding_dim, activation='relu'),\n",
    "    # Add a Dense layer with 6 units and softmax activation.\n",
    "    # When we have multiple outputs, softmax convert outputs layers into a probability distribution.\n",
    "    tf.keras.layers.Dense(11, activation='softmax')\n",
    "])\n",
    "model.summary()"
   ]
  },
  {
   "cell_type": "code",
   "execution_count": 51,
   "metadata": {},
   "outputs": [],
   "source": [
    "model.compile(loss='sparse_categorical_crossentropy', optimizer='adam', metrics=['accuracy'])"
   ]
  },
  {
   "cell_type": "code",
   "execution_count": 52,
   "metadata": {},
   "outputs": [
    {
     "name": "stdout",
     "output_type": "stream",
     "text": [
      "Train on 1477 samples, validate on 370 samples\n",
      "Epoch 1/10\n",
      "1477/1477 - 37s - loss: 2.2710 - accuracy: 0.1903 - val_loss: 2.0909 - val_accuracy: 0.2486\n",
      "Epoch 2/10\n",
      "1477/1477 - 17s - loss: 1.7486 - accuracy: 0.3629 - val_loss: 1.5919 - val_accuracy: 0.5027\n",
      "Epoch 3/10\n",
      "1477/1477 - 12s - loss: 1.1794 - accuracy: 0.6161 - val_loss: 1.2311 - val_accuracy: 0.5946\n",
      "Epoch 4/10\n",
      "1477/1477 - 12s - loss: 0.7715 - accuracy: 0.7617 - val_loss: 1.2528 - val_accuracy: 0.5324\n",
      "Epoch 5/10\n",
      "1477/1477 - 12s - loss: 0.4740 - accuracy: 0.8707 - val_loss: 1.1328 - val_accuracy: 0.6595\n",
      "Epoch 6/10\n",
      "1477/1477 - 12s - loss: 0.2236 - accuracy: 0.9364 - val_loss: 1.2690 - val_accuracy: 0.6378\n",
      "Epoch 7/10\n",
      "1477/1477 - 12s - loss: 0.1180 - accuracy: 0.9736 - val_loss: 1.4501 - val_accuracy: 0.6243\n",
      "Epoch 8/10\n",
      "1477/1477 - 12s - loss: 0.0648 - accuracy: 0.9905 - val_loss: 1.4491 - val_accuracy: 0.6405\n",
      "Epoch 9/10\n",
      "1477/1477 - 12s - loss: 0.0349 - accuracy: 0.9919 - val_loss: 1.5334 - val_accuracy: 0.6405\n",
      "Epoch 10/10\n",
      "1477/1477 - 12s - loss: 0.0187 - accuracy: 0.9986 - val_loss: 1.6703 - val_accuracy: 0.6324\n"
     ]
    }
   ],
   "source": [
    "num_epochs = 10\n",
    "history = model.fit(train_padded, training_label_seq, epochs=num_epochs, validation_data=(validation_padded, validation_label_seq), verbose=2)"
   ]
  },
  {
   "cell_type": "code",
   "execution_count": 53,
   "metadata": {},
   "outputs": [
    {
     "data": {
      "image/png": "[encoded data removed]",
      "text/plain": [
       "<Figure size 432x288 with 1 Axes>"
      ]
     },
     "metadata": {
      "needs_background": "light"
     },
     "output_type": "display_data"
    },
    {
     "data": {
      "image/png": "[encoded data removed]",
      "text/plain": [
       "<Figure size 432x288 with 1 Axes>"
      ]
     },
     "metadata": {
      "needs_background": "light"
     },
     "output_type": "display_data"
    }
   ],
   "source": [
    "import matplotlib.pyplot as plt\n",
    "\n",
    "def plot_graphs(history, string):\n",
    "  plt.plot(history.history[string])\n",
    "  plt.plot(history.history['val_'+string])\n",
    "  plt.xlabel(\"Epochs\")\n",
    "  plt.ylabel(string)\n",
    "  plt.legend([string, 'val_'+string])\n",
    "  plt.show()\n",
    "  \n",
    "plot_graphs(history, \"accuracy\")\n",
    "plot_graphs(history, \"loss\")"
   ]
  },
  {
   "cell_type": "code",
   "execution_count": null,
   "metadata": {},
   "outputs": [],
   "source": []
  }
 ],
 "metadata": {
  "kernelspec": {
   "display_name": "Python 3",
   "language": "python",
   "name": "python3"
  },
  "language_info": {
   "codemirror_mode": {
    "name": "ipython",
    "version": 3
   },
   "file_extension": ".py",
   "mimetype": "text/x-python",
   "name": "python",
   "nbconvert_exporter": "python",
   "pygments_lexer": "ipython3",
   "version": "3.7.9"
  }
 },
 "nbformat": 4,
 "nbformat_minor": 4
}
