{
 "cells": [
  {
   "cell_type": "code",
   "execution_count": 14,
   "metadata": {},
   "outputs": [],
   "source": [
    "from sklearn.datasets import load_files\n",
    "\n",
    "news = load_files('.\\\\baza', encoding='utf-8')\n",
    "\n",
    "posts = news.data\n",
    "\n",
    "import re, string\n",
    "\n",
    "clean_posts = []\n",
    "for post in posts:\n",
    "    \n",
    "    post = post.lower()\n",
    "    post = \"\".join([char for char in post if char not in '!\"#$%&\\'()*+.,-/:;<=>?@[\\\\]^_`{|}~–“”ʼ«»'])\n",
    "    post = re.sub('[0-9]+', '', post)\n",
    "    post = re.sub('(\\r\\n|\\r|\\n)', ' ', post)   \n",
    "    clean_posts.append(post)"
   ]
  },
  {
   "cell_type": "code",
   "execution_count": 15,
   "metadata": {},
   "outputs": [
    {
     "name": "stdout",
     "output_type": "stream",
     "text": [
      "ўзбекистонлик дастурчилар ҳиндистонлик ҳамкасблари тажрибасини ўрганди  фантехника ва маркетинг тадқиқотлари маркази  uniconuz мутахассислари ҳиндистон технологик институтининг indian technical and economic cooperation programme itec дастури доирасида ҳиндистоннинг канпуре шаҳрида ташкил этилган intermediate cyber security for it professionals курсида ўқиб қайтди  ўзбекистон республикаси ахборот технологиялари ва коммуникацияларини ривожлантириш вазирлигидан олинган маълумотга кўра intermediate cyber security for it professionals ўқув курсида турли мамлакатлардан  мутахассис иштирок этган машғулотлар доирасида улар киберхавфсизликни таъминлаш соҳасига оид назарий билимлар ва амалий кўникмаларни эгаллади шунингдек киберхавфсизликка қарши курашиш борасидаги энг янги услублар ва киберҳужумларнинг оқибатларини бартараф этиш усуллари билан танишди  шунингдек ўқиш давомида корпоратив маданиятга алоҳида эътибор қаратилди бусиз барча замонавий кибер таҳдидларга қарши самарали ҳимояни таъминлаб бўлмайди  ўзбекистонлик дастурчилар ўқишни муваффақиятли тугаллаб сертификат олди уларнинг мазкур таълим дастуридаги иштироки икки мамлакат ўртасидаги ҳар томонлама ҳамкорликни ривожлантиришда навбатдаги қадамлардан бири бўлди\n"
     ]
    }
   ],
   "source": [
    "print(clean_posts[0])"
   ]
  },
  {
   "cell_type": "code",
   "execution_count": 16,
   "metadata": {},
   "outputs": [],
   "source": [
    "import pandas as pd  \n",
    "df = pd.DataFrame({'target': news.target, 'post': clean_posts}) \n",
    "df.to_csv('clean_uza.csv')"
   ]
  },
  {
   "cell_type": "code",
   "execution_count": null,
   "metadata": {},
   "outputs": [],
   "source": []
  }
 ],
 "metadata": {
  "kernelspec": {
   "display_name": "Python 3",
   "language": "python",
   "name": "python3"
  },
  "language_info": {
   "codemirror_mode": {
    "name": "ipython",
    "version": 3
   },
   "file_extension": ".py",
   "mimetype": "text/x-python",
   "name": "python",
   "nbconvert_exporter": "python",
   "pygments_lexer": "ipython3",
   "version": "3.7.9"
  }
 },
 "nbformat": 4,
 "nbformat_minor": 4
}
