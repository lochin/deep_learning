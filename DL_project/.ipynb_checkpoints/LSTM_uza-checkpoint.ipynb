{
 "cells": [
  {
   "cell_type": "code",
   "execution_count": 1,
   "metadata": {},
   "outputs": [],
   "source": [
    "from sklearn.datasets import load_files\n",
    "\n",
    "uza_train = load_files('.\\\\uza\\\\train', encoding='utf-8')\n",
    "uza_test = load_files('.\\\\uza\\\\test', encoding='utf-8')"
   ]
  },
  {
   "cell_type": "code",
   "execution_count": 8,
   "metadata": {},
   "outputs": [
    {
     "data": {
      "text/plain": [
       "{'<OOV>': 1,\n",
       " '\\r': 2,\n",
       " 'ва': 3,\n",
       " 'ўзбекистон': 4,\n",
       " 'билан': 5,\n",
       " 'республикаси': 6,\n",
       " 'бўйича': 7,\n",
       " 'учун': 8,\n",
       " '–': 9,\n",
       " 'давлат': 10}"
      ]
     },
     "execution_count": 8,
     "metadata": {},
     "output_type": "execute_result"
    }
   ],
   "source": [
    "from tensorflow.keras.preprocessing.text import Tokenizer\n",
    "\n",
    "vocab_size = 10000\n",
    "embedding_dim = 64\n",
    "max_length = 200\n",
    "trunc_type = 'post'\n",
    "padding_type = 'post'\n",
    "oov_tok = '<OOV>'\n",
    "\n",
    "tokenizer = Tokenizer(num_words = vocab_size, oov_token=oov_tok)\n",
    "tokenizer.fit_on_texts(uza_train.data)\n",
    "word_index = tokenizer.word_index\n",
    "\n",
    "dict(list(word_index.items())[0:10])"
   ]
  },
  {
   "cell_type": "code",
   "execution_count": 3,
   "metadata": {},
   "outputs": [
    {
     "data": {
      "text/plain": [
       "[4219,\n",
       " 4659,\n",
       " 6695,\n",
       " 1902,\n",
       " 5,\n",
       " 5137,\n",
       " 2,\n",
       " 1,\n",
       " 1,\n",
       " 242,\n",
       " 34,\n",
       " 2364,\n",
       " 733,\n",
       " 20,\n",
       " 2007,\n",
       " 34,\n",
       " 1,\n",
       " 3735,\n",
       " 4219,\n",
       " 4659,\n",
       " 1902,\n",
       " 5,\n",
       " 1127,\n",
       " 2,\n",
       " 2,\n",
       " 1145,\n",
       " 68,\n",
       " 318,\n",
       " 1,\n",
       " 51,\n",
       " 2919,\n",
       " 586,\n",
       " 2353,\n",
       " 9598,\n",
       " 1,\n",
       " 1,\n",
       " 138,\n",
       " 57,\n",
       " 138,\n",
       " 21,\n",
       " 2293,\n",
       " 8662,\n",
       " 337,\n",
       " 2,\n",
       " 2,\n",
       " 22,\n",
       " 1969,\n",
       " 3720,\n",
       " 2588,\n",
       " 5121,\n",
       " 8,\n",
       " 1554,\n",
       " 3197,\n",
       " 1398,\n",
       " 4659,\n",
       " 3880,\n",
       " 1,\n",
       " 1,\n",
       " 5,\n",
       " 311,\n",
       " 1086,\n",
       " 1,\n",
       " 177,\n",
       " 2,\n",
       " 2,\n",
       " 1833,\n",
       " 2141,\n",
       " 4219,\n",
       " 119,\n",
       " 3115,\n",
       " 1,\n",
       " 40,\n",
       " 119,\n",
       " 2919,\n",
       " 7863,\n",
       " 4038,\n",
       " 71,\n",
       " 8624,\n",
       " 552,\n",
       " 2423,\n",
       " 86,\n",
       " 2]"
      ]
     },
     "execution_count": 3,
     "metadata": {},
     "output_type": "execute_result"
    }
   ],
   "source": [
    "train_sequences = tokenizer.texts_to_sequences(uza_train.data)\n",
    "train_sequences[10]"
   ]
  },
  {
   "cell_type": "code",
   "execution_count": 9,
   "metadata": {},
   "outputs": [
    {
     "name": "stdout",
     "output_type": "stream",
     "text": [
      "67\n",
      "200\n",
      "268\n",
      "200\n",
      "454.14079422382673\n"
     ]
    }
   ],
   "source": [
    "from tensorflow.keras.preprocessing.sequence import pad_sequences\n",
    "\n",
    "train_padded = pad_sequences(train_sequences, maxlen=max_length, padding=padding_type, truncating=trunc_type)\n",
    "\n",
    "print(len(train_sequences[0]))\n",
    "print(len(train_padded[0]))\n",
    "\n",
    "print(len(train_sequences[6]))\n",
    "print(len(train_padded[6]))\n",
    "# s=0\n",
    "# for i in train_sequences:\n",
    "#    s=s+len(i)\n",
    "# print(s/len(train_sequences))"
   ]
  },
  {
   "cell_type": "code",
   "execution_count": 10,
   "metadata": {},
   "outputs": [
    {
     "name": "stdout",
     "output_type": "stream",
     "text": [
      "[1, 9575, 1, 9, 1, 1, 71, 1, 2, 2593, 913, 5115, 3, 8623, 1, 361, 311, 167, 655, 4872, 111, 654, 663, 3000, 3095, 1, 655, 1, 1, 36, 71, 3478, 3333, 335, 337, 2, 2, 1, 1, 558, 3476, 4213, 114, 517, 1, 3604, 2356, 2041, 9575, 1, 1, 2, 2, 9576, 311, 3334, 1584, 11, 261, 4873, 131, 1533, 202, 1346, 1, 4419, 9575, 1, 5115, 1, 1268, 1041, 778, 686, 83, 12, 559, 27, 854, 1055, 1, 4214, 2739, 16, 8636, 1055, 3479, 1235, 5435, 3480, 7838, 7839, 70, 3605, 2, 272, 4419, 9575, 1, 5115, 1, 1268, 1041, 778, 686, 83, 12, 559, 27, 854, 1055, 1, 4214, 2739, 16, 8636, 1055, 3479, 1235, 5435, 3480, 7838, 7839, 70, 3605, 2, 1, 1, 2474, 302, 144, 779, 3, 1, 20, 117, 2920, 44, 1670, 1, 1, 5436, 1, 2357, 2475, 7840, 165, 1332, 213, 4874, 638, 3100, 4215, 100, 2, 1236, 1838, 1, 1182, 56, 1, 78, 8637, 1, 3606, 1839, 1, 582, 247, 1, 1, 1, 114, 1, 113, 1, 14, 720, 6186, 913, 5115, 558, 1, 77, 1, 13, 66, 9575, 1, 12, 1, 1, 1, 1, 962, 1520, 430, 1254, 9575, 1, 1, 80, 1, 1, 1, 1907, 792, 602, 14, 352, 236, 1, 1, 1, 1, 1, 16, 1, 1, 1, 12, 9577, 54, 1585, 2665, 1, 1, 5, 3001, 655, 6667, 66, 1, 1289, 1, 5, 1, 514, 24, 2, 1, 1, 1, 5, 2531, 3871, 1, 119, 1, 1, 5, 1, 1, 1, 73, 62, 963, 1, 1, 66, 1, 1, 57, 1030, 2293, 5125, 1, 2]\n"
     ]
    }
   ],
   "source": [
    "print(train_sequences[6])"
   ]
  },
  {
   "cell_type": "code",
   "execution_count": 11,
   "metadata": {},
   "outputs": [
    {
     "name": "stdout",
     "output_type": "stream",
     "text": [
      "[   1 9575    1    9    1    1   71    1    2 2593  913 5115    3 8623\n",
      "    1  361  311  167  655 4872  111  654  663 3000 3095    1  655    1\n",
      "    1   36   71 3478 3333  335  337    2    2    1    1  558 3476 4213\n",
      "  114  517    1 3604 2356 2041 9575    1    1    2    2 9576  311 3334\n",
      " 1584   11  261 4873  131 1533  202 1346    1 4419 9575    1 5115    1\n",
      " 1268 1041  778  686   83   12  559   27  854 1055    1 4214 2739   16\n",
      " 8636 1055 3479 1235 5435 3480 7838 7839   70 3605    2  272 4419 9575\n",
      "    1 5115    1 1268 1041  778  686   83   12  559   27  854 1055    1\n",
      " 4214 2739   16 8636 1055 3479 1235 5435 3480 7838 7839   70 3605    2\n",
      "    1    1 2474  302  144  779    3    1   20  117 2920   44 1670    1\n",
      "    1 5436    1 2357 2475 7840  165 1332  213 4874  638 3100 4215  100\n",
      "    2 1236 1838    1 1182   56    1   78 8637    1 3606 1839    1  582\n",
      "  247    1    1    1  114    1  113    1   14  720 6186  913 5115  558\n",
      "    1   77    1   13   66 9575    1   12    1    1    1    1  962 1520\n",
      "  430 1254 9575    1]\n"
     ]
    }
   ],
   "source": [
    "print(train_padded[6])"
   ]
  },
  {
   "cell_type": "code",
   "execution_count": 13,
   "metadata": {},
   "outputs": [
    {
     "name": "stdout",
     "output_type": "stream",
     "text": [
      "462\n",
      "(462, 200)\n"
     ]
    }
   ],
   "source": [
    "test_sequences = tokenizer.texts_to_sequences(uza_test.data)\n",
    "test_padded = pad_sequences(test_sequences, maxlen=max_length, padding=padding_type, truncating=trunc_type)\n",
    "\n",
    "print(len(test_sequences))\n",
    "print(test_padded.shape)"
   ]
  },
  {
   "cell_type": "code",
   "execution_count": 15,
   "metadata": {},
   "outputs": [
    {
     "name": "stdout",
     "output_type": "stream",
     "text": [
      "ўзбекистонда i чоракда 1 5 миллионга яқин сайёҳ ташриф буюрди видео \r",
      " \r",
      " статистик маълумотларга кўра жорий йилнинг биринчи чорагида мамлакатимизга 1 5 миллионга яқин сайёҳ ташриф буюрди бу кўрсаткич эса ўтган йилнинг шу даврига нисбатан қарийб 142 фоизга ўсди бу ҳали ҳаммаси эмас \r",
      " туризм соҳасини янада ривожлантириш йўллари пойтахтимизда бўлиб ўтган “tashkent <OOV> <OOV> кўргазмасида муҳокама қилинди ? ? ? ? ? ? ? ? ? ? ? ? ? ? ? ? ? ? ? ? ? ? ? ? ? ? ? ? ? ? ? ? ? ? ? ? ? ? ? ? ? ? ? ? ? ? ? ? ? ? ? ? ? ? ? ? ? ? ? ? ? ? ? ? ? ? ? ? ? ? ? ? ? ? ? ? ? ? ? ? ? ? ? ? ? ? ? ? ? ? ? ? ? ? ? ? ? ? ? ? ? ? ? ? ? ? ? ? ? ? ? ? ? ? ? ? ? ? ? ? ? ? ? ? ? ? ? ? ? ? ? ? ? ? ? ? ? ? ? ? ?\n",
      "---\n",
      "Ўзбекистонда I чоракда 1,5 миллионга яқин сайёҳ ташриф буюрди (видео)\r\n",
      "\r\n",
      "Статистик маълумотларга кўра, жорий йилнинг биринчи чорагида мамлакатимизга 1,5 миллионга яқин сайёҳ ташриф буюрди. Бу кўрсаткич эса ўтган йилнинг шу даврига нисбатан қарийб 142 фоизга ўсди. Бу ҳали ҳаммаси эмас...\r\n",
      "Туризм соҳасини янада ривожлантириш йўллари пойтахтимизда бўлиб ўтган “TASHKENT TRAVEL MART” кўргазмасида муҳокама қилинди.\n"
     ]
    }
   ],
   "source": [
    "reverse_word_index = dict([(value, key) for (key, value) in word_index.items()])\n",
    "\n",
    "def decode_article(text):\n",
    "    return ' '.join([reverse_word_index.get(i, '?') for i in text])\n",
    "\n",
    "print(decode_article(train_padded[1]))\n",
    "print('---')\n",
    "print(uza_train.data[1])"
   ]
  },
  {
   "cell_type": "code",
   "execution_count": 17,
   "metadata": {},
   "outputs": [
    {
     "name": "stdout",
     "output_type": "stream",
     "text": [
      "Model: \"sequential\"\n",
      "_________________________________________________________________\n",
      "Layer (type)                 Output Shape              Param #   \n",
      "=================================================================\n",
      "embedding (Embedding)        (None, None, 64)          640000    \n",
      "_________________________________________________________________\n",
      "bidirectional (Bidirectional (None, 128)               66048     \n",
      "_________________________________________________________________\n",
      "dense (Dense)                (None, 64)                8256      \n",
      "_________________________________________________________________\n",
      "dense_1 (Dense)              (None, 10)                650       \n",
      "=================================================================\n",
      "Total params: 714,954\n",
      "Trainable params: 714,954\n",
      "Non-trainable params: 0\n",
      "_________________________________________________________________\n"
     ]
    }
   ],
   "source": [
    "import tensorflow as tf\n",
    "\n",
    "model = tf.keras.Sequential([\n",
    "    # Add an Embedding layer expecting input vocab of size 5000, and output embedding dimension of size 64 we set at the top\n",
    "    tf.keras.layers.Embedding(vocab_size, embedding_dim),\n",
    "    tf.keras.layers.Bidirectional(tf.keras.layers.LSTM(embedding_dim)),\n",
    "#    tf.keras.layers.Bidirectional(tf.keras.layers.LSTM(32)),\n",
    "    # use ReLU in place of tanh function since they are very good alternatives of each other.\n",
    "    tf.keras.layers.Dense(embedding_dim, activation='relu'),\n",
    "    # Add a Dense layer with 6 units and softmax activation.\n",
    "    # When we have multiple outputs, softmax convert outputs layers into a probability distribution.\n",
    "    tf.keras.layers.Dense(10, activation='softmax')\n",
    "])\n",
    "model.summary()"
   ]
  },
  {
   "cell_type": "code",
   "execution_count": 18,
   "metadata": {},
   "outputs": [
    {
     "name": "stdout",
     "output_type": "stream",
     "text": [
      "Train on 1385 samples, validate on 462 samples\n",
      "Epoch 1/10\n",
      "1385/1385 - 15s - loss: 2.1643 - accuracy: 0.2773 - val_loss: 1.8971 - val_accuracy: 0.3420\n",
      "Epoch 2/10\n",
      "1385/1385 - 10s - loss: 1.6748 - accuracy: 0.4043 - val_loss: 1.5629 - val_accuracy: 0.4134\n",
      "Epoch 3/10\n",
      "1385/1385 - 10s - loss: 1.2804 - accuracy: 0.5617 - val_loss: 1.7204 - val_accuracy: 0.4286\n",
      "Epoch 4/10\n",
      "1385/1385 - 12s - loss: 0.8908 - accuracy: 0.6816 - val_loss: 1.4206 - val_accuracy: 0.5693\n",
      "Epoch 5/10\n",
      "1385/1385 - 12s - loss: 0.6400 - accuracy: 0.7769 - val_loss: 1.2431 - val_accuracy: 0.6061\n",
      "Epoch 6/10\n",
      "1385/1385 - 11s - loss: 0.4686 - accuracy: 0.8440 - val_loss: 1.3616 - val_accuracy: 0.5606\n",
      "Epoch 7/10\n",
      "1385/1385 - 11s - loss: 0.4376 - accuracy: 0.8513 - val_loss: 1.3835 - val_accuracy: 0.6061\n",
      "Epoch 8/10\n",
      "1385/1385 - 11s - loss: 0.2810 - accuracy: 0.9264 - val_loss: 1.4895 - val_accuracy: 0.6429\n",
      "Epoch 9/10\n",
      "1385/1385 - 11s - loss: 0.1259 - accuracy: 0.9762 - val_loss: 1.6072 - val_accuracy: 0.6234\n",
      "Epoch 10/10\n",
      "1385/1385 - 10s - loss: 0.1157 - accuracy: 0.9762 - val_loss: 1.4171 - val_accuracy: 0.6342\n"
     ]
    }
   ],
   "source": [
    "model.compile(loss='sparse_categorical_crossentropy', optimizer='adam', metrics=['accuracy'])\n",
    "\n",
    "num_epochs = 10\n",
    "history = model.fit(train_padded, uza_train.target, epochs=num_epochs, validation_data=(test_padded, uza_test.target), verbose=2)\n"
   ]
  },
  {
   "cell_type": "code",
   "execution_count": 19,
   "metadata": {},
   "outputs": [
    {
     "data": {
      "image/png": "[encoded data removed]",
      "text/plain": [
       "<Figure size 432x288 with 1 Axes>"
      ]
     },
     "metadata": {
      "needs_background": "light"
     },
     "output_type": "display_data"
    }
   ],
   "source": [
    "import matplotlib.pyplot as plt\n",
    "\n",
    "def plot_graphs(history, string):\n",
    "    plt.plot(history.history[string])\n",
    "    plt.plot(history.history['val_' + string])\n",
    "    plt.xlabel(\"Epochs\")\n",
    "    plt.ylabel(string)\n",
    "    plt.legend([string, 'val_' + string])\n",
    "    plt.show()\n",
    "\n",
    "\n",
    "plot_graphs(history, \"accuracy\")"
   ]
  },
  {
   "cell_type": "code",
   "execution_count": 28,
   "metadata": {},
   "outputs": [
    {
     "name": "stdout",
     "output_type": "stream",
     "text": [
      "['business', 'culture', 'documents', 'politics', 'science', 'society', 'sport', 'technology', 'tourism', 'world']\n",
      "0\n",
      "[[0.2710515  0.01436511 0.08881723 0.24778993 0.02095689 0.03137819\n",
      "  0.07886308 0.07416602 0.0633783  0.10923372]] business\n"
     ]
    }
   ],
   "source": [
    "import numpy as np\n",
    "\n",
    "txt = [\"Футбол бўйича Европа мамлакатлари терма жамоалари ўртасида Миллатлар лигаси мусобақасининг сўнгги 6-тури ўз якунига етди.\"]\n",
    "seq = tokenizer.texts_to_sequences(txt)\n",
    "padded = pad_sequences(seq, maxlen=max_length)\n",
    "pred = model.predict(padded)\n",
    "labels = list(uza_train.target_names)\n",
    "print(uza_train.target_names)\n",
    "print(np.argmax(pred))\n",
    "print(pred, labels[np.argmax(pred)])\n"
   ]
  },
  {
   "cell_type": "code",
   "execution_count": null,
   "metadata": {},
   "outputs": [],
   "source": []
  }
 ],
 "metadata": {
  "kernelspec": {
   "display_name": "Python 3",
   "language": "python",
   "name": "python3"
  },
  "language_info": {
   "codemirror_mode": {
    "name": "ipython",
    "version": 3
   },
   "file_extension": ".py",
   "mimetype": "text/x-python",
   "name": "python",
   "nbconvert_exporter": "python",
   "pygments_lexer": "ipython3",
   "version": "3.7.9"
  }
 },
 "nbformat": 4,
 "nbformat_minor": 4
}
