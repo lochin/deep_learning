{
 "cells": [
  {
   "cell_type": "code",
   "execution_count": 9,
   "metadata": {},
   "outputs": [
    {
     "name": "stdout",
     "output_type": "stream",
     "text": [
      "2.1.0\n"
     ]
    }
   ],
   "source": [
    "import tensorflow as tf\n",
    "print(tf.__version__)"
   ]
  },
  {
   "cell_type": "code",
   "execution_count": 10,
   "metadata": {},
   "outputs": [],
   "source": [
    "import csv\n",
    "import tensorflow as tf\n",
    "import numpy as np\n",
    "from tensorflow.keras.preprocessing.text import Tokenizer\n",
    "from tensorflow.keras.preprocessing.sequence import pad_sequences\n",
    "\n"
   ]
  },
  {
   "cell_type": "code",
   "execution_count": 11,
   "metadata": {},
   "outputs": [],
   "source": [
    "vocab_size = 7000\n",
    "embedding_dim = 64\n",
    "max_length = 300\n",
    "trunc_type = 'post'\n",
    "padding_type = 'post'\n",
    "oov_tok = '<OOV>'\n",
    "training_portion = .8"
   ]
  },
  {
   "cell_type": "code",
   "execution_count": 12,
   "metadata": {},
   "outputs": [
    {
     "name": "stdout",
     "output_type": "stream",
     "text": [
      "1000\n",
      "1000\n"
     ]
    }
   ],
   "source": [
    "articles = []\n",
    "labels = []\n",
    "\n",
    "with open(\"clean_uza_mini.csv\", 'r', encoding=\"utf8\") as csvfile:\n",
    "    reader = csv.reader(csvfile, delimiter=',')\n",
    "    next(reader)\n",
    "    for row in reader:\n",
    "        labels.append(row[1])\n",
    "        article = row[2]        \n",
    "        articles.append(article)\n",
    "print(len(labels))\n",
    "print(len(articles))"
   ]
  },
  {
   "cell_type": "code",
   "execution_count": 13,
   "metadata": {},
   "outputs": [
    {
     "name": "stdout",
     "output_type": "stream",
     "text": [
      "800\n",
      "800\n",
      "800\n",
      "200\n",
      "200\n"
     ]
    }
   ],
   "source": [
    "train_size = int(len(articles) * training_portion)\n",
    "\n",
    "train_articles = articles[0: train_size]\n",
    "train_labels = labels[0: train_size]\n",
    "\n",
    "validation_articles = articles[train_size:]\n",
    "validation_labels = labels[train_size:]\n",
    "\n",
    "print(train_size)\n",
    "print(len(train_articles))\n",
    "print(len(train_labels))\n",
    "print(len(validation_articles))\n",
    "print(len(validation_labels))"
   ]
  },
  {
   "cell_type": "code",
   "execution_count": 14,
   "metadata": {},
   "outputs": [],
   "source": [
    "tokenizer = Tokenizer(num_words = vocab_size, oov_token=oov_tok)\n",
    "tokenizer.fit_on_texts(train_articles)\n",
    "word_index = tokenizer.word_index"
   ]
  },
  {
   "cell_type": "code",
   "execution_count": 15,
   "metadata": {},
   "outputs": [
    {
     "name": "stdout",
     "output_type": "stream",
     "text": [
      "{'<OOV>': 1, 'ва': 2, 'билан': 3, 'ҳам': 4, 'бу': 5, 'бўйича': 6, 'учун': 7, 'бир': 8, 'ўзбекистон': 9, 'бўлиб': 10}\n",
      "38238\n"
     ]
    }
   ],
   "source": [
    "print(dict(list(word_index.items())[0:10]))\n",
    "print(len(list(word_index.items())))"
   ]
  },
  {
   "cell_type": "code",
   "execution_count": 16,
   "metadata": {},
   "outputs": [],
   "source": [
    "train_sequences = tokenizer.texts_to_sequences(train_articles)"
   ]
  },
  {
   "cell_type": "code",
   "execution_count": 17,
   "metadata": {},
   "outputs": [
    {
     "name": "stdout",
     "output_type": "stream",
     "text": [
      "[1, 3851, 1, 341, 33, 6, 43, 31, 44, 87, 77, 34, 72, 1, 3851, 1, 3852, 414, 3853, 2037, 3854, 167, 6, 3359, 3855, 3787, 2, 1, 2742, 309, 117, 2780, 2781, 2782, 2364, 2194, 44, 18, 291, 65, 7, 293, 87, 77, 34, 25, 479, 194, 73, 18, 220, 132, 2038, 74, 18, 141, 11, 229, 40, 91, 127, 128, 10, 79, 110, 25, 81, 512, 954, 1116, 161, 2783, 636, 240, 221, 2784]\n"
     ]
    }
   ],
   "source": [
    "print(train_sequences[10])"
   ]
  },
  {
   "cell_type": "code",
   "execution_count": 18,
   "metadata": {},
   "outputs": [],
   "source": [
    "train_padded = pad_sequences(train_sequences, maxlen=max_length, padding=padding_type, truncating=trunc_type)"
   ]
  },
  {
   "cell_type": "code",
   "execution_count": 19,
   "metadata": {},
   "outputs": [
    {
     "name": "stdout",
     "output_type": "stream",
     "text": [
      "191\n",
      "300\n",
      "105\n",
      "300\n"
     ]
    }
   ],
   "source": [
    "print(len(train_sequences[0]))\n",
    "print(len(train_padded[0]))\n",
    "\n",
    "print(len(train_sequences[1]))\n",
    "print(len(train_padded[1]))\n"
   ]
  },
  {
   "cell_type": "code",
   "execution_count": 20,
   "metadata": {},
   "outputs": [
    {
     "name": "stdout",
     "output_type": "stream",
     "text": [
      "[9, 974, 206, 1, 6087, 974, 5065, 97, 7, 887, 233, 456, 1871, 364, 1, 45, 1, 838, 1761, 1091, 2, 2997, 2318, 1, 1, 1, 1016, 9, 3, 1, 95, 6088, 163, 5065, 97, 975, 1328, 89, 2998, 1, 139, 5066, 974, 35, 2006, 358, 4329, 1572, 283, 3342, 215, 1, 39, 151, 7, 974, 887, 233, 456, 813, 1871, 364, 493, 200, 27, 5067, 8, 765, 80, 456, 1, 238, 2319, 11, 1, 4330, 2320, 974, 2154, 1, 766, 725, 1056, 586, 7, 5068, 1, 545, 2518, 1, 4, 1762, 319, 253, 9, 6089, 1207, 1329, 122, 365, 239, 1, 507, 645, 375, 1, 1, 2321, 1, 3343, 344, 1872, 1328, 89, 766, 202, 191, 5069, 311, 2736, 249, 6090, 1, 1, 1, 59, 11, 1208, 521, 1, 66, 1, 171, 72, 2322, 1873, 2155, 1209, 1, 839, 1, 17, 56, 6, 494, 1401, 861, 184, 265, 546, 3344, 3775, 767, 725, 944, 4, 1, 974, 9, 3, 254, 1, 1652, 3776, 97, 2999, 24, 1017, 4331, 1, 4, 61, 1057, 1, 470, 3343, 66, 3345, 862, 6, 67, 26, 1, 5, 3343, 66, 1484, 1, 1, 54, 146]\n"
     ]
    }
   ],
   "source": [
    "print(train_sequences[0])"
   ]
  },
  {
   "cell_type": "code",
   "execution_count": 21,
   "metadata": {},
   "outputs": [
    {
     "name": "stdout",
     "output_type": "stream",
     "text": [
      "[   9  974  206    1 6087  974 5065   97    7  887  233  456 1871  364\n",
      "    1   45    1  838 1761 1091    2 2997 2318    1    1    1 1016    9\n",
      "    3    1   95 6088  163 5065   97  975 1328   89 2998    1  139 5066\n",
      "  974   35 2006  358 4329 1572  283 3342  215    1   39  151    7  974\n",
      "  887  233  456  813 1871  364  493  200   27 5067    8  765   80  456\n",
      "    1  238 2319   11    1 4330 2320  974 2154    1  766  725 1056  586\n",
      "    7 5068    1  545 2518    1    4 1762  319  253    9 6089 1207 1329\n",
      "  122  365  239    1  507  645  375    1    1 2321    1 3343  344 1872\n",
      " 1328   89  766  202  191 5069  311 2736  249 6090    1    1    1   59\n",
      "   11 1208  521    1   66    1  171   72 2322 1873 2155 1209    1  839\n",
      "    1   17   56    6  494 1401  861  184  265  546 3344 3775  767  725\n",
      "  944    4    1  974    9    3  254    1 1652 3776   97 2999   24 1017\n",
      " 4331    1    4   61 1057    1  470 3343   66 3345  862    6   67   26\n",
      "    1    5 3343   66 1484    1    1   54  146    0    0    0    0    0\n",
      "    0    0    0    0    0    0    0    0    0    0    0    0    0    0\n",
      "    0    0    0    0    0    0    0    0    0    0    0    0    0    0\n",
      "    0    0    0    0    0    0    0    0    0    0    0    0    0    0\n",
      "    0    0    0    0    0    0    0    0    0    0    0    0    0    0\n",
      "    0    0    0    0    0    0    0    0    0    0    0    0    0    0\n",
      "    0    0    0    0    0    0    0    0    0    0    0    0    0    0\n",
      "    0    0    0    0    0    0    0    0    0    0    0    0    0    0\n",
      "    0    0    0    0    0    0]\n"
     ]
    }
   ],
   "source": [
    "print(train_padded[0])"
   ]
  },
  {
   "cell_type": "code",
   "execution_count": 22,
   "metadata": {},
   "outputs": [
    {
     "name": "stdout",
     "output_type": "stream",
     "text": [
      "[627, 2, 599, 1, 794, 3000, 172, 133, 2519, 599, 3, 1, 888, 13, 3000, 1210, 1266, 205, 3777, 296, 311, 284, 297, 1, 428, 140, 1, 1485, 945, 1763, 1, 1, 1, 3778, 2323, 1402, 164, 1, 1, 322, 4332, 1, 3346, 106, 726, 1, 1, 112, 166, 429, 612, 254, 6091, 1, 2520, 172, 5070, 627, 2, 599, 1, 1653, 1, 3000, 888, 13, 3000, 275, 2519, 1, 2521, 1330, 1, 2, 2156, 1, 2521, 1330, 1, 613, 1, 3779, 1330, 1, 2157, 3001, 1573, 1, 284, 1, 599, 376, 124, 366, 1654, 1, 207, 6092, 1266, 1403, 1874, 814, 3347, 112, 166]\n"
     ]
    }
   ],
   "source": [
    "print(train_sequences[1])"
   ]
  },
  {
   "cell_type": "code",
   "execution_count": 23,
   "metadata": {},
   "outputs": [
    {
     "name": "stdout",
     "output_type": "stream",
     "text": [
      "[ 627    2  599    1  794 3000  172  133 2519  599    3    1  888   13\n",
      " 3000 1210 1266  205 3777  296  311  284  297    1  428  140    1 1485\n",
      "  945 1763    1    1    1 3778 2323 1402  164    1    1  322 4332    1\n",
      " 3346  106  726    1    1  112  166  429  612  254 6091    1 2520  172\n",
      " 5070  627    2  599    1 1653    1 3000  888   13 3000  275 2519    1\n",
      " 2521 1330    1    2 2156    1 2521 1330    1  613    1 3779 1330    1\n",
      " 2157 3001 1573    1  284    1  599  376  124  366 1654    1  207 6092\n",
      " 1266 1403 1874  814 3347  112  166    0    0    0    0    0    0    0\n",
      "    0    0    0    0    0    0    0    0    0    0    0    0    0    0\n",
      "    0    0    0    0    0    0    0    0    0    0    0    0    0    0\n",
      "    0    0    0    0    0    0    0    0    0    0    0    0    0    0\n",
      "    0    0    0    0    0    0    0    0    0    0    0    0    0    0\n",
      "    0    0    0    0    0    0    0    0    0    0    0    0    0    0\n",
      "    0    0    0    0    0    0    0    0    0    0    0    0    0    0\n",
      "    0    0    0    0    0    0    0    0    0    0    0    0    0    0\n",
      "    0    0    0    0    0    0    0    0    0    0    0    0    0    0\n",
      "    0    0    0    0    0    0    0    0    0    0    0    0    0    0\n",
      "    0    0    0    0    0    0    0    0    0    0    0    0    0    0\n",
      "    0    0    0    0    0    0    0    0    0    0    0    0    0    0\n",
      "    0    0    0    0    0    0    0    0    0    0    0    0    0    0\n",
      "    0    0    0    0    0    0    0    0    0    0    0    0    0    0\n",
      "    0    0    0    0    0    0]\n"
     ]
    }
   ],
   "source": [
    "print(train_padded[1])"
   ]
  },
  {
   "cell_type": "code",
   "execution_count": 24,
   "metadata": {},
   "outputs": [
    {
     "name": "stdout",
     "output_type": "stream",
     "text": [
      "200\n",
      "(200, 300)\n"
     ]
    }
   ],
   "source": [
    "validation_sequences = tokenizer.texts_to_sequences(validation_articles)\n",
    "validation_padded = pad_sequences(validation_sequences, maxlen=max_length, padding=padding_type, truncating=trunc_type)\n",
    "\n",
    "print(len(validation_sequences))\n",
    "print(validation_padded.shape)"
   ]
  },
  {
   "cell_type": "code",
   "execution_count": 25,
   "metadata": {},
   "outputs": [
    {
     "name": "stdout",
     "output_type": "stream",
     "text": [
      "{'sport', 'business', 'world', 'science', 'culture'}\n"
     ]
    }
   ],
   "source": [
    "print(set(labels))"
   ]
  },
  {
   "cell_type": "code",
   "execution_count": 26,
   "metadata": {},
   "outputs": [],
   "source": [
    "label_tokenizer = Tokenizer()\n",
    "label_tokenizer.fit_on_texts(labels)\n",
    "\n",
    "training_label_seq = np.array(label_tokenizer.texts_to_sequences(train_labels))\n",
    "validation_label_seq = np.array(label_tokenizer.texts_to_sequences(validation_labels))"
   ]
  },
  {
   "cell_type": "code",
   "execution_count": 27,
   "metadata": {},
   "outputs": [
    {
     "name": "stdout",
     "output_type": "stream",
     "text": [
      "[1]\n",
      "[1]\n",
      "[2]\n",
      "(800, 1)\n",
      "[5]\n",
      "[3]\n",
      "[4]\n",
      "(200, 1)\n"
     ]
    }
   ],
   "source": [
    "print(training_label_seq[0])\n",
    "print(training_label_seq[1])\n",
    "print(training_label_seq[2])\n",
    "print(training_label_seq.shape)\n",
    "\n",
    "print(validation_label_seq[0])\n",
    "print(validation_label_seq[1])\n",
    "print(validation_label_seq[2])\n",
    "print(validation_label_seq.shape)"
   ]
  },
  {
   "cell_type": "code",
   "execution_count": 28,
   "metadata": {},
   "outputs": [
    {
     "name": "stdout",
     "output_type": "stream",
     "text": [
      "ўзбекистон ҳиндистон ҳамкорлик <OOV> кенгаймоқда ҳиндистон инфратузилмани ривожлантириш учун ўзбекистонга миллиард доллар имтиёзли кредит <OOV> мазкур <OOV> мамлакатнинг ўзбекистондаги фавқулодда ва мухтор элчиси <OOV> <OOV> <OOV> билдирди ўзбекистон билан <OOV> муҳим йўналишларидан бири инфратузилмани ривожлантириш борасидаги алоқаларни янада кенгайтиришга <OOV> деди элчи ҳиндистон миллий байрами республика кунига бағишлаб ўтказилган маросимда айни <OOV> амалга ошириш учун ҳиндистон ўзбекистонга миллиард доллар миқдорида имтиёзли кредит таклиф этади ушбу маблағнинг бир қисми миллион доллар <OOV> тўғрисидаги келишув йил <OOV> кучга кирган ҳиндистон томони <OOV> ривожлантиришга қаратилган лойиҳаларни қўллабқувватлаш учун грант <OOV> ёрдам ажратиш <OOV> ҳам билдирган ҳозирги пайтда ўзбекистон тараққиётининг устувор йўналишлари сифатида белгиланган қатор <OOV> тегишли лойиҳалар кўриб <OOV> <OOV> бошидан <OOV> мамлакатларимиз албатта савдоиқтисодий алоқаларни янада ривожлантиришга алоҳида эътибор қаратади дея сўзини давом эттиради <OOV> <OOV> <OOV> ўтган йил сентябрь ойида <OOV> ўртасида <OOV> савдо тўғрисида битим тузиш имкониятларини биргаликда <OOV> тадқиқот <OOV> ташкил этиш бўйича қўшма баёнот имзоланди қишлоқ хўжалиги маҳсулотлари экспорти ҳажмини оширишга қаратилган ҳамкорликни ҳам <OOV> ҳиндистон ўзбекистон билан ер <OOV> транспорт тармоғини ривожлантириш баробарида янги ҳаво йўлларини <OOV> ҳам катта қизиқиш <OOV> ҳозир мамлакатларимиз ўртасида парвозларни кенгайтириш бўйича иш олиб <OOV> бу мамлакатларимиз ўртасида сайёҳлар <OOV> <OOV> хизмат қилади ? ? ? ? ? ? ? ? ? ? ? ? ? ? ? ? ? ? ? ? ? ? ? ? ? ? ? ? ? ? ? ? ? ? ? ? ? ? ? ? ? ? ? ? ? ? ? ? ? ? ? ? ? ? ? ? ? ? ? ? ? ? ? ? ? ? ? ? ? ? ? ? ? ? ? ? ? ? ? ? ? ? ? ? ? ? ? ? ? ? ? ? ? ? ? ? ? ? ? ? ? ? ? ? ? ? ? ? ?\n",
      "---\n",
      "ўзбекистон  ҳиндистон ҳамкорлик уфқи кенгаймоқда  ҳиндистон инфратузилмани ривожлантириш учун ўзбекистонга  миллиард доллар имтиёзли кредит ажратади  мазкур таклифни мамлакатнинг ўзбекистондаги фавқулодда ва мухтор элчиси шри сантош жа билдирди   ўзбекистон билан ҳамкорлигимизнинг муҳим йўналишларидан бири  инфратузилмани ривожлантириш борасидаги алоқаларни янада кенгайтиришга интиламиз  деди элчи ҳиндистон миллий байрами  республика кунига бағишлаб ўтказилган маросимда  айни мақсадларни амалга ошириш учун ҳиндистон ўзбекистонга  миллиард доллар миқдорида имтиёзли кредит таклиф этади ушбу маблағнинг бир қисми   миллион доллар ажратилиши тўғрисидаги келишув  йил январида кучга кирган  ҳиндистон томони мамлакатимизни ривожлантиришга қаратилган лойиҳаларни қўллабқувватлаш учун грант кўринишида ёрдам ажратиш ниятини ҳам билдирган ҳозирги пайтда ўзбекистон тараққиётининг устувор йўналишлари сифатида белгиланган қатор соҳаларга тегишли лойиҳалар кўриб чиқиляпти   янгиланишларни бошидан кечираётган мамлакатларимиз албатта савдоиқтисодий алоқаларни янада ривожлантиришга алоҳида эътибор қаратади  дея сўзини давом эттиради шри сантош жа  ўтган йил сентябрь ойида давлатларимиз ўртасида ҳудудлараро савдо тўғрисида битим тузиш имкониятларини биргаликда ўрганувчи тадқиқот гуруҳини ташкил этиш бўйича қўшма баёнот имзоланди қишлоқ хўжалиги маҳсулотлари экспорти ҳажмини оширишга қаратилган ҳамкорликни ҳам кенгайтирамиз  ҳиндистон ўзбекистон билан ер усти транспорт тармоғини ривожлантириш баробарида янги ҳаво йўлларини очишга ҳам катта қизиқиш билдирмоқда ҳозир мамлакатларимиз ўртасида парвозларни кенгайтириш бўйича иш олиб бориляпти бу мамлакатларимиз ўртасида сайёҳлар оқими кўпайишига хизмат қилади\n"
     ]
    }
   ],
   "source": [
    "reverse_word_index = dict([(value, key) for (key, value) in word_index.items()])\n",
    "\n",
    "def decode_article(text):\n",
    "    return ' '.join([reverse_word_index.get(i, '?') for i in text])\n",
    "print(decode_article(train_padded[0]))\n",
    "print('---')\n",
    "print(train_articles[0])"
   ]
  },
  {
   "cell_type": "code",
   "execution_count": 29,
   "metadata": {},
   "outputs": [
    {
     "name": "stdout",
     "output_type": "stream",
     "text": [
      "Model: \"sequential\"\n",
      "_________________________________________________________________\n",
      "Layer (type)                 Output Shape              Param #   \n",
      "=================================================================\n",
      "embedding (Embedding)        (None, None, 64)          448000    \n",
      "_________________________________________________________________\n",
      "bidirectional (Bidirectional (None, 128)               66048     \n",
      "_________________________________________________________________\n",
      "dense (Dense)                (None, 64)                8256      \n",
      "_________________________________________________________________\n",
      "dense_1 (Dense)              (None, 6)                 390       \n",
      "=================================================================\n",
      "Total params: 522,694\n",
      "Trainable params: 522,694\n",
      "Non-trainable params: 0\n",
      "_________________________________________________________________\n"
     ]
    }
   ],
   "source": [
    "model = tf.keras.Sequential([\n",
    "    # Add an Embedding layer expecting input vocab of size 5000, and output embedding dimension of size 64 we set at the top\n",
    "    tf.keras.layers.Embedding(vocab_size, embedding_dim),\n",
    "    tf.keras.layers.Bidirectional(tf.keras.layers.LSTM(embedding_dim)),\n",
    "#    tf.keras.layers.Bidirectional(tf.keras.layers.LSTM(32)),\n",
    "    # use ReLU in place of tanh function since they are very good alternatives of each other.\n",
    "    tf.keras.layers.Dense(embedding_dim, activation='relu'),\n",
    "    # Add a Dense layer with 6 units and softmax activation.\n",
    "    # When we have multiple outputs, softmax convert outputs layers into a probability distribution.\n",
    "    tf.keras.layers.Dense(6, activation='softmax')\n",
    "])\n",
    "model.summary()"
   ]
  },
  {
   "cell_type": "code",
   "execution_count": 30,
   "metadata": {},
   "outputs": [],
   "source": [
    "model.compile(loss='sparse_categorical_crossentropy', optimizer='adam', metrics=['accuracy'])"
   ]
  },
  {
   "cell_type": "code",
   "execution_count": 31,
   "metadata": {},
   "outputs": [
    {
     "name": "stdout",
     "output_type": "stream",
     "text": [
      "Train on 800 samples, validate on 200 samples\n",
      "Epoch 1/10\n",
      "800/800 - 12s - loss: 1.6946 - accuracy: 0.2400 - val_loss: 1.5390 - val_accuracy: 0.3750\n",
      "Epoch 2/10\n",
      "800/800 - 9s - loss: 1.2670 - accuracy: 0.4512 - val_loss: 1.1584 - val_accuracy: 0.4250\n",
      "Epoch 3/10\n",
      "800/800 - 7s - loss: 1.0382 - accuracy: 0.5337 - val_loss: 1.0269 - val_accuracy: 0.5300\n",
      "Epoch 4/10\n",
      "800/800 - 7s - loss: 0.8666 - accuracy: 0.6413 - val_loss: 0.9038 - val_accuracy: 0.6400\n",
      "Epoch 5/10\n",
      "800/800 - 7s - loss: 0.8700 - accuracy: 0.6787 - val_loss: 1.0215 - val_accuracy: 0.6400\n",
      "Epoch 6/10\n",
      "800/800 - 7s - loss: 0.7626 - accuracy: 0.8125 - val_loss: 0.8616 - val_accuracy: 0.6850\n",
      "Epoch 7/10\n",
      "800/800 - 7s - loss: 0.4809 - accuracy: 0.8737 - val_loss: 0.6759 - val_accuracy: 0.7700\n",
      "Epoch 8/10\n",
      "800/800 - 8s - loss: 0.2733 - accuracy: 0.9375 - val_loss: 0.6245 - val_accuracy: 0.7950\n",
      "Epoch 9/10\n",
      "800/800 - 7s - loss: 0.1316 - accuracy: 0.9875 - val_loss: 0.5875 - val_accuracy: 0.8150\n",
      "Epoch 10/10\n",
      "800/800 - 7s - loss: 0.0530 - accuracy: 0.9975 - val_loss: 0.5624 - val_accuracy: 0.8150\n"
     ]
    }
   ],
   "source": [
    "num_epochs = 10\n",
    "history = model.fit(train_padded, training_label_seq, epochs=num_epochs, validation_data=(validation_padded, validation_label_seq), verbose=2)"
   ]
  },
  {
   "cell_type": "code",
   "execution_count": 32,
   "metadata": {},
   "outputs": [
    {
     "data": {
      "image/png": "[encoded data removed]",
      "text/plain": [
       "<Figure size 432x288 with 1 Axes>"
      ]
     },
     "metadata": {
      "needs_background": "light"
     },
     "output_type": "display_data"
    },
    {
     "data": {
      "image/png": "[encoded data removed]",
      "text/plain": [
       "<Figure size 432x288 with 1 Axes>"
      ]
     },
     "metadata": {
      "needs_background": "light"
     },
     "output_type": "display_data"
    }
   ],
   "source": [
    "import matplotlib.pyplot as plt\n",
    "\n",
    "def plot_graphs(history, string):\n",
    "  plt.plot(history.history[string])\n",
    "  plt.plot(history.history['val_'+string])\n",
    "  plt.xlabel(\"Epochs\")\n",
    "  plt.ylabel(string)\n",
    "  plt.legend([string, 'val_'+string])\n",
    "  plt.show()\n",
    "  \n",
    "plot_graphs(history, \"accuracy\")\n",
    "plot_graphs(history, \"loss\")"
   ]
  },
  {
   "cell_type": "code",
   "execution_count": null,
   "metadata": {},
   "outputs": [],
   "source": []
  }
 ],
 "metadata": {
  "kernelspec": {
   "display_name": "Python 3",
   "language": "python",
   "name": "python3"
  },
  "language_info": {
   "codemirror_mode": {
    "name": "ipython",
    "version": 3
   },
   "file_extension": ".py",
   "mimetype": "text/x-python",
   "name": "python",
   "nbconvert_exporter": "python",
   "pygments_lexer": "ipython3",
   "version": "3.7.9"
  }
 },
 "nbformat": 4,
 "nbformat_minor": 4
}
