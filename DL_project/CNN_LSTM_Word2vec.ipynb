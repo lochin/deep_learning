{
 "cells": [
  {
   "cell_type": "code",
   "execution_count": 44,
   "metadata": {},
   "outputs": [],
   "source": [
    "from sklearn.datasets import load_files\n",
    "\n",
    "uza_train = load_files('.\\\\uza\\\\train', encoding='utf-8')\n",
    "uza_test = load_files('.\\\\uza\\\\test', encoding='utf-8')"
   ]
  },
  {
   "cell_type": "code",
   "execution_count": 45,
   "metadata": {},
   "outputs": [],
   "source": [
    "from tensorflow.keras.preprocessing.text import Tokenizer\n",
    "\n",
    "vocab_size = 40000\n",
    "embedding_dim = 200\n",
    "max_length = 150\n",
    "trunc_type = 'post'\n",
    "padding_type = 'post'\n",
    "oov_tok = '<OOV>'\n",
    "\n",
    "tokenizer = Tokenizer(num_words = vocab_size, filters='!\"“–”—#$%&()*+,-./:;<=>?@[\\\\]^_`{|}~\\t\\r\\n', oov_token=oov_tok)\n",
    "tokenizer.fit_on_texts(uza_train.data)\n",
    "word_index = tokenizer.word_index\n",
    "\n",
    "train_sequences = tokenizer.texts_to_sequences(uza_train.data)\n",
    "test_sequences = tokenizer.texts_to_sequences(uza_test.data)"
   ]
  },
  {
   "cell_type": "code",
   "execution_count": 46,
   "metadata": {},
   "outputs": [],
   "source": [
    "from tensorflow.keras.preprocessing.sequence import pad_sequences\n",
    "\n",
    "train_padded = pad_sequences(train_sequences, maxlen=max_length, padding=padding_type, truncating=trunc_type)\n",
    "test_padded = pad_sequences(test_sequences, maxlen=max_length, padding=padding_type, truncating=trunc_type)"
   ]
  },
  {
   "cell_type": "code",
   "execution_count": 47,
   "metadata": {
    "scrolled": true
   },
   "outputs": [
    {
     "name": "stdout",
     "output_type": "stream",
     "text": [
      "55012\n",
      "321\n"
     ]
    }
   ],
   "source": [
    "print(len(word_index))\n",
    "print(word_index['сўз'])\n",
    "\n",
    "from gensim.models import Word2Vec\n",
    "model = Word2Vec.load(\"uza_word2vec.model\")\n",
    "vocab = model.wv.vocab"
   ]
  },
  {
   "cell_type": "code",
   "execution_count": 1,
   "metadata": {},
   "outputs": [
    {
     "ename": "NameError",
     "evalue": "name 'word_index' is not defined",
     "output_type": "error",
     "traceback": [
      "\u001b[1;31m---------------------------------------------------------------------------\u001b[0m",
      "\u001b[1;31mNameError\u001b[0m                                 Traceback (most recent call last)",
      "\u001b[1;32m<ipython-input-1-3d1bd347613c>\u001b[0m in \u001b[0;36m<module>\u001b[1;34m\u001b[0m\n\u001b[0;32m      1\u001b[0m \u001b[1;32mimport\u001b[0m \u001b[0mnumpy\u001b[0m \u001b[1;32mas\u001b[0m \u001b[0mnp\u001b[0m\u001b[1;33m\u001b[0m\u001b[1;33m\u001b[0m\u001b[0m\n\u001b[0;32m      2\u001b[0m \u001b[1;33m\u001b[0m\u001b[0m\n\u001b[1;32m----> 3\u001b[1;33m \u001b[0mvocab_size\u001b[0m\u001b[1;33m=\u001b[0m\u001b[0mlen\u001b[0m\u001b[1;33m(\u001b[0m\u001b[0mword_index\u001b[0m\u001b[1;33m)\u001b[0m\u001b[1;33m\u001b[0m\u001b[1;33m\u001b[0m\u001b[0m\n\u001b[0m\u001b[0;32m      4\u001b[0m \u001b[0membeddings_index\u001b[0m \u001b[1;33m=\u001b[0m \u001b[1;33m{\u001b[0m\u001b[1;33m}\u001b[0m\u001b[1;33m;\u001b[0m\u001b[1;33m\u001b[0m\u001b[1;33m\u001b[0m\u001b[0m\n\u001b[0;32m      5\u001b[0m \u001b[1;33m\u001b[0m\u001b[0m\n",
      "\u001b[1;31mNameError\u001b[0m: name 'word_index' is not defined"
     ]
    }
   ],
   "source": [
    "import numpy as np\n",
    "\n",
    "vocab_size=len(word_index)\n",
    "embeddings_index = {};\n",
    "\n",
    "# with open('glove/glove.6B.100d.txt') as f:\n",
    "#     for line in f:\n",
    "#         values = line.split();\n",
    "#         word = values[0];\n",
    "#         coefs = np.asarray(values[1:], dtype='float32')\n",
    "#         embeddings_index[word] = coefs;\n",
    "\n",
    "embeddings_matrix = np.zeros((vocab_size+1, embedding_dim))\n",
    "for word, i in word_index.items():    \n",
    "    \n",
    "    if word in vocab:\n",
    "        embeddings_matrix[i] = model.wv[word]\n",
    "    else:\n",
    "        embeddings_matrix[i] = [0]*200;"
   ]
  },
  {
   "cell_type": "code",
   "execution_count": 49,
   "metadata": {},
   "outputs": [
    {
     "name": "stdout",
     "output_type": "stream",
     "text": [
      "55013\n"
     ]
    }
   ],
   "source": [
    "print(len(embeddings_matrix))"
   ]
  },
  {
   "cell_type": "code",
   "execution_count": 50,
   "metadata": {},
   "outputs": [
    {
     "name": "stdout",
     "output_type": "stream",
     "text": [
      "Model: \"sequential_4\"\n",
      "_________________________________________________________________\n",
      "Layer (type)                 Output Shape              Param #   \n",
      "=================================================================\n",
      "embedding_4 (Embedding)      (None, 150, 200)          11002600  \n",
      "_________________________________________________________________\n",
      "dropout_4 (Dropout)          (None, 150, 200)          0         \n",
      "_________________________________________________________________\n",
      "conv1d_4 (Conv1D)            (None, 146, 64)           64064     \n",
      "_________________________________________________________________\n",
      "max_pooling1d_4 (MaxPooling1 (None, 36, 64)            0         \n",
      "_________________________________________________________________\n",
      "lstm_4 (LSTM)                (None, 64)                33024     \n",
      "_________________________________________________________________\n",
      "dense_4 (Dense)              (None, 10)                650       \n",
      "=================================================================\n",
      "Total params: 11,100,338\n",
      "Trainable params: 97,738\n",
      "Non-trainable params: 11,002,600\n",
      "_________________________________________________________________\n"
     ]
    }
   ],
   "source": [
    "import tensorflow as tf\n",
    "\n",
    "model = tf.keras.Sequential([\n",
    "    tf.keras.layers.Embedding(vocab_size+1, embedding_dim, input_length=max_length, weights=[embeddings_matrix], trainable=False),\n",
    "    tf.keras.layers.Dropout(0.2),\n",
    "    tf.keras.layers.Conv1D(64, 5, activation='relu'),\n",
    "    tf.keras.layers.MaxPooling1D(pool_size=4),\n",
    "    tf.keras.layers.LSTM(64),\n",
    "    tf.keras.layers.Dense(10, activation='softmax')\n",
    "])\n",
    "model.compile(loss='sparse_categorical_crossentropy',optimizer='adam',metrics=['accuracy'])\n",
    "model.summary()"
   ]
  },
  {
   "cell_type": "code",
   "execution_count": 51,
   "metadata": {},
   "outputs": [
    {
     "name": "stdout",
     "output_type": "stream",
     "text": [
      "Train on 1385 samples, validate on 462 samples\n",
      "Epoch 1/10\n",
      "1385/1385 - 7s - loss: 1.9893 - accuracy: 0.3437 - val_loss: 1.6772 - val_accuracy: 0.4632\n",
      "Epoch 2/10\n",
      "1385/1385 - 4s - loss: 1.4223 - accuracy: 0.5430 - val_loss: 1.3721 - val_accuracy: 0.5281\n",
      "Epoch 3/10\n",
      "1385/1385 - 5s - loss: 1.1692 - accuracy: 0.6332 - val_loss: 1.3123 - val_accuracy: 0.5541\n",
      "Epoch 4/10\n",
      "1385/1385 - 6s - loss: 1.0258 - accuracy: 0.6635 - val_loss: 1.1812 - val_accuracy: 0.5823\n",
      "Epoch 5/10\n",
      "1385/1385 - 5s - loss: 0.9547 - accuracy: 0.6946 - val_loss: 1.1393 - val_accuracy: 0.6277\n",
      "Epoch 6/10\n",
      "1385/1385 - 5s - loss: 0.8289 - accuracy: 0.7249 - val_loss: 1.1239 - val_accuracy: 0.6277\n",
      "Epoch 7/10\n",
      "1385/1385 - 4s - loss: 0.7080 - accuracy: 0.7877 - val_loss: 1.1069 - val_accuracy: 0.6277\n",
      "Epoch 8/10\n",
      "1385/1385 - 4s - loss: 0.6144 - accuracy: 0.8130 - val_loss: 1.0371 - val_accuracy: 0.6537\n",
      "Epoch 9/10\n",
      "1385/1385 - 4s - loss: 0.5313 - accuracy: 0.8426 - val_loss: 1.0299 - val_accuracy: 0.6753\n",
      "Epoch 10/10\n",
      "1385/1385 - 4s - loss: 0.4545 - accuracy: 0.8628 - val_loss: 1.0726 - val_accuracy: 0.6667\n"
     ]
    }
   ],
   "source": [
    "num_epochs = 10\n",
    "history = model.fit(train_padded, uza_train.target, epochs=num_epochs, validation_data=(test_padded, uza_test.target), verbose=2)"
   ]
  },
  {
   "cell_type": "code",
   "execution_count": 52,
   "metadata": {},
   "outputs": [
    {
     "data": {
      "image/png": "[encoded data removed]",
      "text/plain": [
       "<Figure size 432x288 with 1 Axes>"
      ]
     },
     "metadata": {
      "needs_background": "light"
     },
     "output_type": "display_data"
    }
   ],
   "source": [
    "import matplotlib.pyplot as plt\n",
    "\n",
    "def plot_graphs(history, string):\n",
    "    plt.plot(history.history[string])\n",
    "    plt.plot(history.history['val_' + string])\n",
    "    plt.xlabel(\"Босқичлар\")\n",
    "    plt.ylabel(\"Аниқлик\")\n",
    "    plt.legend(['Ўқитиш', 'Тестлаш'])\n",
    "    plt.show()\n",
    "\n",
    "\n",
    "plot_graphs(history, \"accuracy\")"
   ]
  },
  {
   "cell_type": "code",
   "execution_count": null,
   "metadata": {},
   "outputs": [],
   "source": []
  }
 ],
 "metadata": {
  "kernelspec": {
   "display_name": "Python 3",
   "language": "python",
   "name": "python3"
  },
  "language_info": {
   "codemirror_mode": {
    "name": "ipython",
    "version": 3
   },
   "file_extension": ".py",
   "mimetype": "text/x-python",
   "name": "python",
   "nbconvert_exporter": "python",
   "pygments_lexer": "ipython3",
   "version": "3.7.9"
  }
 },
 "nbformat": 4,
 "nbformat_minor": 4
}
