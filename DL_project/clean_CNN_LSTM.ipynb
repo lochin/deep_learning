{
 "cells": [
  {
   "cell_type": "code",
   "execution_count": 72,
   "metadata": {},
   "outputs": [
    {
     "name": "stdout",
     "output_type": "stream",
     "text": [
      "2.1.0\n"
     ]
    }
   ],
   "source": [
    "import tensorflow as tf\n",
    "print(tf.__version__)"
   ]
  },
  {
   "cell_type": "code",
   "execution_count": 73,
   "metadata": {},
   "outputs": [],
   "source": [
    "import csv\n",
    "import tensorflow as tf\n",
    "import numpy as np\n",
    "from tensorflow.keras.preprocessing.text import Tokenizer\n",
    "from tensorflow.keras.preprocessing.sequence import pad_sequences"
   ]
  },
  {
   "cell_type": "code",
   "execution_count": 74,
   "metadata": {},
   "outputs": [],
   "source": [
    "# vocab_size = 5000\n",
    "embedding_dim = 200\n",
    "max_length = 300\n",
    "trunc_type = 'post'\n",
    "padding_type = 'post'\n",
    "oov_tok = '<OOV>'\n",
    "training_portion = .8"
   ]
  },
  {
   "cell_type": "code",
   "execution_count": 75,
   "metadata": {},
   "outputs": [
    {
     "name": "stdout",
     "output_type": "stream",
     "text": [
      "1000\n",
      "world\n",
      "1000\n",
      "ўзбекистон  ҳиндистон ҳамкорлик уфқи кенгаймоқда  ҳиндистон инфратузилмани ривожлантириш учун ўзбекистонга  миллиард доллар имтиёзли кредит ажратади  мазкур таклифни мамлакатнинг ўзбекистондаги фавқулодда ва мухтор элчиси шри сантош жа билдирди   ўзбекистон билан ҳамкорлигимизнинг муҳим йўналишларидан бири  инфратузилмани ривожлантириш борасидаги алоқаларни янада кенгайтиришга интиламиз  деди элчи ҳиндистон миллий байрами  республика кунига бағишлаб ўтказилган маросимда  айни мақсадларни амалга ошириш учун ҳиндистон ўзбекистонга  миллиард доллар миқдорида имтиёзли кредит таклиф этади ушбу маблағнинг бир қисми   миллион доллар ажратилиши тўғрисидаги келишув  йил январида кучга кирган  ҳиндистон томони мамлакатимизни ривожлантиришга қаратилган лойиҳаларни қўллабқувватлаш учун грант кўринишида ёрдам ажратиш ниятини ҳам билдирган ҳозирги пайтда ўзбекистон тараққиётининг устувор йўналишлари сифатида белгиланган қатор соҳаларга тегишли лойиҳалар кўриб чиқиляпти   янгиланишларни бошидан кечираётган мамлакатларимиз албатта савдоиқтисодий алоқаларни янада ривожлантиришга алоҳида эътибор қаратади  дея сўзини давом эттиради шри сантош жа  ўтган йил сентябрь ойида давлатларимиз ўртасида ҳудудлараро савдо тўғрисида битим тузиш имкониятларини биргаликда ўрганувчи тадқиқот гуруҳини ташкил этиш бўйича қўшма баёнот имзоланди қишлоқ хўжалиги маҳсулотлари экспорти ҳажмини оширишга қаратилган ҳамкорликни ҳам кенгайтирамиз  ҳиндистон ўзбекистон билан ер усти транспорт тармоғини ривожлантириш баробарида янги ҳаво йўлларини очишга ҳам катта қизиқиш билдирмоқда ҳозир мамлакатларимиз ўртасида парвозларни кенгайтириш бўйича иш олиб бориляпти бу мамлакатларимиз ўртасида сайёҳлар оқими кўпайишига хизмат қилади\n"
     ]
    }
   ],
   "source": [
    "articles = []\n",
    "labels = []\n",
    "\n",
    "with open(\"clean_uza_mini.csv\", 'r', encoding=\"utf8\") as csvfile:\n",
    "    reader = csv.reader(csvfile, delimiter=',')\n",
    "    next(reader)\n",
    "    for row in reader:\n",
    "        labels.append(row[1])        \n",
    "        articles.append(row[2])\n",
    "print(len(labels))\n",
    "print(labels[0])\n",
    "print(len(articles))\n",
    "print(articles[0])"
   ]
  },
  {
   "cell_type": "code",
   "execution_count": 76,
   "metadata": {},
   "outputs": [
    {
     "name": "stdout",
     "output_type": "stream",
     "text": [
      "42788\n"
     ]
    }
   ],
   "source": [
    "tokenizer = Tokenizer()\n",
    "tokenizer.fit_on_texts(articles)\n",
    "\n",
    "word_index = tokenizer.word_index\n",
    "vocab_size=len(word_index)\n",
    "\n",
    "print(vocab_size)"
   ]
  },
  {
   "cell_type": "code",
   "execution_count": 77,
   "metadata": {},
   "outputs": [],
   "source": [
    "sequences = tokenizer.texts_to_sequences(articles)\n",
    "padded = pad_sequences(sequences, maxlen=max_length, padding=padding_type, truncating=trunc_type)\n",
    "\n",
    "train_size = int(len(articles) * training_portion)\n",
    "training_sequences = padded[0:train_size]\n",
    "train_labels = labels[0:train_size]\n",
    "\n",
    "validation_sequences = padded[train_size:]\n",
    "validation_labels = labels[train_size:]\n",
    "\n",
    "label_tokenizer = Tokenizer()\n",
    "label_tokenizer.fit_on_texts(labels)\n",
    "\n",
    "training_label_seq = np.array(label_tokenizer.texts_to_sequences(train_labels))\n",
    "validation_label_seq = np.array(label_tokenizer.texts_to_sequences(validation_labels))"
   ]
  },
  {
   "cell_type": "code",
   "execution_count": 78,
   "metadata": {},
   "outputs": [
    {
     "name": "stdout",
     "output_type": "stream",
     "text": [
      "(800, 300)\n",
      "(200, 300)\n",
      "(800, 1)\n",
      "(200, 1)\n"
     ]
    }
   ],
   "source": [
    "print(training_sequences.shape)\n",
    "print(validation_sequences.shape)\n",
    "print(training_label_seq.shape)\n",
    "print(validation_label_seq.shape)"
   ]
  },
  {
   "cell_type": "code",
   "execution_count": 79,
   "metadata": {},
   "outputs": [
    {
     "name": "stdout",
     "output_type": "stream",
     "text": [
      "42788\n",
      "156\n"
     ]
    }
   ],
   "source": [
    "print(vocab_size)\n",
    "print(word_index['сўз'])"
   ]
  },
  {
   "cell_type": "code",
   "execution_count": 80,
   "metadata": {},
   "outputs": [
    {
     "name": "stdout",
     "output_type": "stream",
     "text": [
      "7173\n",
      "200\n"
     ]
    }
   ],
   "source": [
    "from gensim.models import Word2Vec\n",
    "model = Word2Vec.load(\"mini_word2vec.model\")\n",
    "print(len(model.wv.vocab))\n",
    "print(len(model.wv['сўз']))"
   ]
  },
  {
   "cell_type": "code",
   "execution_count": 81,
   "metadata": {},
   "outputs": [],
   "source": [
    "import numpy as np\n",
    "\n",
    "embeddings_index = {};\n",
    "\n",
    "\n",
    "embeddings_matrix = np.zeros((vocab_size+1, embedding_dim))\n",
    "for word, i in word_index.items():\n",
    "    if word in model.wv.vocab:\n",
    "        embeddings_matrix[i] = model.wv[word]\n",
    "    else:\n",
    "        embeddings_matrix[i] = [0]*200;"
   ]
  },
  {
   "cell_type": "code",
   "execution_count": 82,
   "metadata": {},
   "outputs": [
    {
     "name": "stdout",
     "output_type": "stream",
     "text": [
      "Model: \"sequential_5\"\n",
      "_________________________________________________________________\n",
      "Layer (type)                 Output Shape              Param #   \n",
      "=================================================================\n",
      "embedding_5 (Embedding)      (None, 300, 200)          8557800   \n",
      "_________________________________________________________________\n",
      "dropout_5 (Dropout)          (None, 300, 200)          0         \n",
      "_________________________________________________________________\n",
      "conv1d_5 (Conv1D)            (None, 296, 64)           64064     \n",
      "_________________________________________________________________\n",
      "max_pooling1d_5 (MaxPooling1 (None, 74, 64)            0         \n",
      "_________________________________________________________________\n",
      "lstm_5 (LSTM)                (None, 64)                33024     \n",
      "_________________________________________________________________\n",
      "dense_5 (Dense)              (None, 6)                 390       \n",
      "=================================================================\n",
      "Total params: 8,655,278\n",
      "Trainable params: 97,478\n",
      "Non-trainable params: 8,557,800\n",
      "_________________________________________________________________\n"
     ]
    }
   ],
   "source": [
    "model = tf.keras.Sequential([\n",
    "    tf.keras.layers.Embedding(vocab_size+1, embedding_dim, input_length=max_length, weights=[embeddings_matrix], trainable=False),\n",
    "    tf.keras.layers.Dropout(0.2),\n",
    "    tf.keras.layers.Conv1D(64, 5, activation='relu'),\n",
    "    tf.keras.layers.MaxPooling1D(pool_size=4),\n",
    "    tf.keras.layers.LSTM(64),\n",
    "    tf.keras.layers.Dense(6, activation='softmax')\n",
    "])\n",
    "model.compile(loss='sparse_categorical_crossentropy',optimizer='adam',metrics=['accuracy'])\n",
    "model.summary()"
   ]
  },
  {
   "cell_type": "code",
   "execution_count": 83,
   "metadata": {},
   "outputs": [
    {
     "name": "stdout",
     "output_type": "stream",
     "text": [
      "Train on 800 samples, validate on 200 samples\n",
      "Epoch 1/20\n",
      "800/800 - 6s - loss: 1.6068 - accuracy: 0.3787 - val_loss: 1.3647 - val_accuracy: 0.5350\n",
      "Epoch 2/20\n",
      "800/800 - 4s - loss: 1.2500 - accuracy: 0.4625 - val_loss: 1.0229 - val_accuracy: 0.5350\n",
      "Epoch 3/20\n",
      "800/800 - 4s - loss: 0.9207 - accuracy: 0.6263 - val_loss: 0.9036 - val_accuracy: 0.6550\n",
      "Epoch 4/20\n",
      "800/800 - 4s - loss: 0.6039 - accuracy: 0.7887 - val_loss: 0.6031 - val_accuracy: 0.8150\n",
      "Epoch 5/20\n",
      "800/800 - 4s - loss: 0.5311 - accuracy: 0.8300 - val_loss: 0.5765 - val_accuracy: 0.7950\n",
      "Epoch 6/20\n",
      "800/800 - 4s - loss: 0.4853 - accuracy: 0.8238 - val_loss: 0.5055 - val_accuracy: 0.8000\n",
      "Epoch 7/20\n",
      "800/800 - 4s - loss: 0.4268 - accuracy: 0.8587 - val_loss: 0.4560 - val_accuracy: 0.8450\n",
      "Epoch 8/20\n",
      "800/800 - 4s - loss: 0.3521 - accuracy: 0.8963 - val_loss: 0.3764 - val_accuracy: 0.8800\n",
      "Epoch 9/20\n",
      "800/800 - 4s - loss: 0.3515 - accuracy: 0.8900 - val_loss: 0.4555 - val_accuracy: 0.8700\n",
      "Epoch 10/20\n",
      "800/800 - 4s - loss: 0.3170 - accuracy: 0.9038 - val_loss: 0.3550 - val_accuracy: 0.9100\n",
      "Epoch 11/20\n",
      "800/800 - 4s - loss: 0.3390 - accuracy: 0.8975 - val_loss: 0.5051 - val_accuracy: 0.8650\n",
      "Epoch 12/20\n",
      "800/800 - 4s - loss: 0.3936 - accuracy: 0.8725 - val_loss: 0.4383 - val_accuracy: 0.8800\n",
      "Epoch 13/20\n",
      "800/800 - 4s - loss: 0.3522 - accuracy: 0.8938 - val_loss: 0.4174 - val_accuracy: 0.8450\n",
      "Epoch 14/20\n",
      "800/800 - 4s - loss: 0.2981 - accuracy: 0.9150 - val_loss: 0.3663 - val_accuracy: 0.8850\n",
      "Epoch 15/20\n",
      "800/800 - 4s - loss: 0.2715 - accuracy: 0.9137 - val_loss: 0.4016 - val_accuracy: 0.8900\n",
      "Epoch 16/20\n",
      "800/800 - 4s - loss: 0.2355 - accuracy: 0.9262 - val_loss: 0.4345 - val_accuracy: 0.8850\n",
      "Epoch 17/20\n",
      "800/800 - 4s - loss: 0.2521 - accuracy: 0.9287 - val_loss: 0.4729 - val_accuracy: 0.8750\n",
      "Epoch 18/20\n",
      "800/800 - 4s - loss: 0.2589 - accuracy: 0.9175 - val_loss: 0.3342 - val_accuracy: 0.9050\n",
      "Epoch 19/20\n",
      "800/800 - 4s - loss: 0.1791 - accuracy: 0.9525 - val_loss: 0.3239 - val_accuracy: 0.9100\n",
      "Epoch 20/20\n",
      "800/800 - 4s - loss: 0.2240 - accuracy: 0.9312 - val_loss: 0.3042 - val_accuracy: 0.9050\n"
     ]
    }
   ],
   "source": [
    "num_epochs = 20\n",
    "history = model.fit(training_sequences, training_label_seq, epochs=num_epochs, validation_data=(validation_sequences, validation_label_seq), verbose=2)"
   ]
  },
  {
   "cell_type": "code",
   "execution_count": 84,
   "metadata": {},
   "outputs": [
    {
     "data": {
      "image/png": "[encoded data removed]",
      "text/plain": [
       "<Figure size 432x288 with 1 Axes>"
      ]
     },
     "metadata": {
      "needs_background": "light"
     },
     "output_type": "display_data"
    },
    {
     "data": {
      "image/png": "[encoded data removed]",
      "text/plain": [
       "<Figure size 432x288 with 1 Axes>"
      ]
     },
     "metadata": {
      "needs_background": "light"
     },
     "output_type": "display_data"
    }
   ],
   "source": [
    "import matplotlib.pyplot as plt\n",
    "\n",
    "def plot_graphs(history, string):\n",
    "  plt.plot(history.history[string])\n",
    "  plt.plot(history.history['val_'+string])\n",
    "  plt.xlabel(\"Epochs\")\n",
    "  plt.ylabel(string)\n",
    "  plt.legend([string, 'val_'+string])\n",
    "  plt.show()\n",
    "  \n",
    "plot_graphs(history, \"accuracy\")\n",
    "plot_graphs(history, \"loss\");"
   ]
  },
  {
   "cell_type": "code",
   "execution_count": null,
   "metadata": {},
   "outputs": [],
   "source": []
  }
 ],
 "metadata": {
  "kernelspec": {
   "display_name": "Python 3",
   "language": "python",
   "name": "python3"
  },
  "language_info": {
   "codemirror_mode": {
    "name": "ipython",
    "version": 3
   },
   "file_extension": ".py",
   "mimetype": "text/x-python",
   "name": "python",
   "nbconvert_exporter": "python",
   "pygments_lexer": "ipython3",
   "version": "3.7.9"
  }
 },
 "nbformat": 4,
 "nbformat_minor": 4
}
